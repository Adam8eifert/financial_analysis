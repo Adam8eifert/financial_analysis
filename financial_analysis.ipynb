{
 "cells": [
  {
   "cell_type": "code",
   "execution_count": null,
   "id": "50798995",
   "metadata": {},
   "outputs": [],
   "source": [
    "# --- Cell 1 ---\n",
    "# Import required libraries\n",
    "import pandas as pd\n",
    "import seaborn as sns\n",
    "import matplotlib.pyplot as plt\n",
    "import plotly.express as px\n",
    "from pathlib import Path\n",
    "\n",
    "# Configure visual style\n",
    "sns.set(style=\"whitegrid\")\n",
    "plt.rcParams[\"figure.figsize\"] = (10, 6)\n",
    "\n",
    "# Paths\n",
    "DATA_PATH = Path(\"data/financial_sample.xlsx\")\n",
    "CSV_PATH = Path(\"data/financial_sample.csv\")\n",
    "VIS_PATH = Path(\"visualizations\")\n",
    "VIS_PATH.mkdir(exist_ok=True)\n"
   ]
  },
  {
   "cell_type": "code",
   "execution_count": null,
   "id": "4db43bf9",
   "metadata": {},
   "outputs": [],
   "source": [
    "# --- Cell 2 ---\n",
    "# Convert Excel file to CSV for easier processing\n",
    "df_excel = pd.read_excel(DATA_PATH)\n",
    "df_excel.to_csv(CSV_PATH, index=False)\n",
    "print(f\"✅ File converted and saved as {CSV_PATH}\")\n"
   ]
  },
  {
   "cell_type": "code",
   "execution_count": null,
   "id": "54baf2ea",
   "metadata": {},
   "outputs": [],
   "source": [
    "# --- Cell 3 ---\n",
    "# Load data from CSV\n",
    "df = pd.read_csv(CSV_PATH)\n",
    "\n",
    "# Display dataset info\n",
    "display(df.head())\n",
    "print(\"\\n--- Dataset Info ---\")\n",
    "print(df.info())\n",
    "print(\"\\n--- Missing Values ---\")\n",
    "print(df.isnull().sum())\n"
   ]
  },
  {
   "cell_type": "code",
   "execution_count": null,
   "id": "a03d0a8d",
   "metadata": {},
   "outputs": [],
   "source": [
    "# --- Cell 4 ---\n",
    "# Basic numerical statistics\n",
    "display(df.describe())\n",
    "\n",
    "# Check unique values in key columns\n",
    "print(\"\\n--- Unique values per categorical column ---\")\n",
    "for col in df.select_dtypes(include=\"object\").columns:\n",
    "    print(f\"{col}: {df[col].nunique()} unique values\")\n"
   ]
  },
  {
   "cell_type": "code",
   "execution_count": null,
   "id": "1351dd17",
   "metadata": {},
   "outputs": [],
   "source": [
    "# --- Cell 5 ---\n",
    "# Compute correlation for numerical columns\n",
    "corr = df.corr(numeric_only=True)\n",
    "\n",
    "plt.figure(figsize=(10, 6))\n",
    "sns.heatmap(corr, annot=True, cmap=\"coolwarm\", fmt=\".2f\")\n",
    "plt.title(\"Correlation Matrix\")\n",
    "plt.show()\n"
   ]
  },
  {
   "cell_type": "code",
   "execution_count": null,
   "id": "288718b2",
   "metadata": {},
   "outputs": [],
   "source": [
    "# --- Cell 6 ---\n",
    "# Static grouped barplot\n",
    "plt.figure(figsize=(12, 6))\n",
    "sns.barplot(data=df, x=\"Country\", y=\"Profit\", hue=\"Segment\", estimator=sum)\n",
    "plt.title(\"Total Profit by Segment and Country\")\n",
    "plt.xticks(rotation=45)\n",
    "plt.tight_layout()\n",
    "plt.show()\n"
   ]
  },
  {
   "cell_type": "code",
   "execution_count": null,
   "id": "74836828",
   "metadata": {},
   "outputs": [],
   "source": [
    "# --- Cell 7 ---\n",
    "# Interactive version of the same visualization\n",
    "fig = px.bar(\n",
    "    df,\n",
    "    x=\"Country\",\n",
    "    y=\"Profit\",\n",
    "    color=\"Segment\",\n",
    "    title=\"Total Profit by Segment and Country (Interactive)\",\n",
    "    hover_data=[\"Product\", \"Discount Band\", \"Month Name\"],\n",
    ")\n",
    "fig.update_layout(barmode=\"group\", template=\"plotly_white\")\n",
    "\n",
    "html_path = VIS_PATH / \"profit_by_segment_country.html\"\n",
    "fig.write_html(html_path)\n",
    "print(f\"✅ Interactive chart saved to: {html_path}\")\n",
    "\n",
    "fig.show()\n"
   ]
  },
  {
   "cell_type": "code",
   "execution_count": null,
   "id": "d9e398c6",
   "metadata": {},
   "outputs": [],
   "source": [
    "# --- Cell 8 ---\n",
    "# Scatterplot with regression\n",
    "plt.figure(figsize=(10, 6))\n",
    "sns.scatterplot(data=df, x=\"Discount\", y=\"Profit\", hue=\"Segment\")\n",
    "sns.regplot(data=df, x=\"Discount\", y=\"Profit\", scatter=False, color=\"black\")\n",
    "plt.title(\"Relationship Between Discount and Profit\")\n",
    "plt.tight_layout()\n",
    "plt.show()\n"
   ]
  },
  {
   "cell_type": "code",
   "execution_count": null,
   "id": "1ee453cc",
   "metadata": {},
   "outputs": [],
   "source": [
    "# --- Cell 9 ---\n",
    "# Interactive scatter plot\n",
    "fig2 = px.scatter(\n",
    "    df,\n",
    "    x=\"Discount\",\n",
    "    y=\"Profit\",\n",
    "    color=\"Segment\",\n",
    "    size=\"Sales\",\n",
    "    hover_data=[\"Product\", \"Country\"],\n",
    "    title=\"Profit vs. Discount (Interactive)\",\n",
    ")\n",
    "fig2.update_layout(template=\"plotly_white\")\n",
    "\n",
    "html_path2 = VIS_PATH / \"profit_vs_discount.html\"\n",
    "fig2.write_html(html_path2)\n",
    "print(f\"✅ Interactive chart saved to: {html_path2}\")\n",
    "\n",
    "fig2.show()\n"
   ]
  },
  {
   "cell_type": "code",
   "execution_count": null,
   "id": "bb29d4c6",
   "metadata": {},
   "outputs": [],
   "source": [
    "# --- Cell 10 ---\n",
    "# Quick text-based summary for insights\n",
    "print(\"📊 Key Insights:\")\n",
    "print(\"- Profit is heavily influenced by discount rate — higher discounts lower profit.\")\n",
    "print(\"- The 'Consumer' segment generally yields higher sales but lower margins.\")\n",
    "print(\"- Certain countries (like the USA and Germany) dominate in total profit.\")\n",
    "print(\"- Product categories vary strongly by segment, suggesting targeted pricing strategy could help.\")\n"
   ]
  },
  {
   "cell_type": "code",
   "execution_count": null,
   "id": "06b62ca0",
   "metadata": {},
   "outputs": [],
   "source": [
    "# --- Cell 11 ---\n",
    "# Save cleaned version (optional)\n",
    "CLEAN_PATH = Path(\"data/financial_sample_cleaned.csv\")\n",
    "df.to_csv(CLEAN_PATH, index=False)\n",
    "print(f\"✅ Cleaned dataset saved to: {CLEAN_PATH}\")\n"
   ]
  }
 ],
 "metadata": {
  "kernelspec": {
   "display_name": "venv",
   "language": "python",
   "name": "python3"
  },
  "language_info": {
   "name": "python",
   "version": "3.12.3"
  }
 },
 "nbformat": 4,
 "nbformat_minor": 5
}
