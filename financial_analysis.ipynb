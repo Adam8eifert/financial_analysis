{
 "cells": [
  {
   "cell_type": "code",
   "execution_count": 1,
   "id": "50798995",
   "metadata": {},
   "outputs": [],
   "source": [
    "# --- Cell 1 ---\n",
    "# Import required libraries\n",
    "import pandas as pd\n",
    "import seaborn as sns\n",
    "import matplotlib.pyplot as plt\n",
    "import plotly.express as px\n",
    "from pathlib import Path\n",
    "\n",
    "# Configure visual style\n",
    "sns.set(style=\"whitegrid\")\n",
    "plt.rcParams[\"figure.figsize\"] = (10, 6)\n",
    "\n",
    "# Paths\n",
    "DATA_PATH = Path(\"data/raw/financial_sample.xlsx\")\n",
    "CSV_PATH = Path(\"data/processed/financial_sample.csv\")\n",
    "VIS_PATH = Path(\"visualizations\")\n",
    "VIS_PATH.mkdir(exist_ok=True)\n"
   ]
  },
  {
   "cell_type": "code",
   "execution_count": 2,
   "id": "4db43bf9",
   "metadata": {},
   "outputs": [
    {
     "name": "stdout",
     "output_type": "stream",
     "text": [
      "✅ File converted and saved as data/processed/financial_sample.csv\n"
     ]
    }
   ],
   "source": [
    "# --- Cell 2 ---\n",
    "# Convert Excel file to CSV for easier processing\n",
    "df_excel = pd.read_excel(DATA_PATH)\n",
    "df_excel.to_csv(CSV_PATH, index=False)\n",
    "print(f\"✅ File converted and saved as {CSV_PATH}\")\n"
   ]
  },
  {
   "cell_type": "code",
   "execution_count": 3,
   "id": "54baf2ea",
   "metadata": {},
   "outputs": [
    {
     "data": {
      "text/html": [
       "<div>\n",
       "<style scoped>\n",
       "    .dataframe tbody tr th:only-of-type {\n",
       "        vertical-align: middle;\n",
       "    }\n",
       "\n",
       "    .dataframe tbody tr th {\n",
       "        vertical-align: top;\n",
       "    }\n",
       "\n",
       "    .dataframe thead th {\n",
       "        text-align: right;\n",
       "    }\n",
       "</style>\n",
       "<table border=\"1\" class=\"dataframe\">\n",
       "  <thead>\n",
       "    <tr style=\"text-align: right;\">\n",
       "      <th></th>\n",
       "      <th>Segment</th>\n",
       "      <th>Country</th>\n",
       "      <th>Product</th>\n",
       "      <th>Discount Band</th>\n",
       "      <th>Units Sold</th>\n",
       "      <th>Manufacturing Price</th>\n",
       "      <th>Sale Price</th>\n",
       "      <th>Gross Sales</th>\n",
       "      <th>Discounts</th>\n",
       "      <th>Sales</th>\n",
       "      <th>COGS</th>\n",
       "      <th>Profit</th>\n",
       "      <th>Date</th>\n",
       "      <th>Month Number</th>\n",
       "      <th>Month Name</th>\n",
       "      <th>Year</th>\n",
       "    </tr>\n",
       "  </thead>\n",
       "  <tbody>\n",
       "    <tr>\n",
       "      <th>0</th>\n",
       "      <td>Government</td>\n",
       "      <td>Canada</td>\n",
       "      <td>Carretera</td>\n",
       "      <td>NaN</td>\n",
       "      <td>1618.5</td>\n",
       "      <td>3</td>\n",
       "      <td>20</td>\n",
       "      <td>32370.0</td>\n",
       "      <td>0.0</td>\n",
       "      <td>32370.0</td>\n",
       "      <td>16185.0</td>\n",
       "      <td>16185.0</td>\n",
       "      <td>2014-01-01</td>\n",
       "      <td>1</td>\n",
       "      <td>January</td>\n",
       "      <td>2014</td>\n",
       "    </tr>\n",
       "    <tr>\n",
       "      <th>1</th>\n",
       "      <td>Government</td>\n",
       "      <td>Germany</td>\n",
       "      <td>Carretera</td>\n",
       "      <td>NaN</td>\n",
       "      <td>1321.0</td>\n",
       "      <td>3</td>\n",
       "      <td>20</td>\n",
       "      <td>26420.0</td>\n",
       "      <td>0.0</td>\n",
       "      <td>26420.0</td>\n",
       "      <td>13210.0</td>\n",
       "      <td>13210.0</td>\n",
       "      <td>2014-01-01</td>\n",
       "      <td>1</td>\n",
       "      <td>January</td>\n",
       "      <td>2014</td>\n",
       "    </tr>\n",
       "    <tr>\n",
       "      <th>2</th>\n",
       "      <td>Midmarket</td>\n",
       "      <td>France</td>\n",
       "      <td>Carretera</td>\n",
       "      <td>NaN</td>\n",
       "      <td>2178.0</td>\n",
       "      <td>3</td>\n",
       "      <td>15</td>\n",
       "      <td>32670.0</td>\n",
       "      <td>0.0</td>\n",
       "      <td>32670.0</td>\n",
       "      <td>21780.0</td>\n",
       "      <td>10890.0</td>\n",
       "      <td>2014-06-01</td>\n",
       "      <td>6</td>\n",
       "      <td>June</td>\n",
       "      <td>2014</td>\n",
       "    </tr>\n",
       "    <tr>\n",
       "      <th>3</th>\n",
       "      <td>Midmarket</td>\n",
       "      <td>Germany</td>\n",
       "      <td>Carretera</td>\n",
       "      <td>NaN</td>\n",
       "      <td>888.0</td>\n",
       "      <td>3</td>\n",
       "      <td>15</td>\n",
       "      <td>13320.0</td>\n",
       "      <td>0.0</td>\n",
       "      <td>13320.0</td>\n",
       "      <td>8880.0</td>\n",
       "      <td>4440.0</td>\n",
       "      <td>2014-06-01</td>\n",
       "      <td>6</td>\n",
       "      <td>June</td>\n",
       "      <td>2014</td>\n",
       "    </tr>\n",
       "    <tr>\n",
       "      <th>4</th>\n",
       "      <td>Midmarket</td>\n",
       "      <td>Mexico</td>\n",
       "      <td>Carretera</td>\n",
       "      <td>NaN</td>\n",
       "      <td>2470.0</td>\n",
       "      <td>3</td>\n",
       "      <td>15</td>\n",
       "      <td>37050.0</td>\n",
       "      <td>0.0</td>\n",
       "      <td>37050.0</td>\n",
       "      <td>24700.0</td>\n",
       "      <td>12350.0</td>\n",
       "      <td>2014-06-01</td>\n",
       "      <td>6</td>\n",
       "      <td>June</td>\n",
       "      <td>2014</td>\n",
       "    </tr>\n",
       "  </tbody>\n",
       "</table>\n",
       "</div>"
      ],
      "text/plain": [
       "      Segment  Country    Product Discount Band  Units Sold  \\\n",
       "0  Government   Canada  Carretera           NaN      1618.5   \n",
       "1  Government  Germany  Carretera           NaN      1321.0   \n",
       "2   Midmarket   France  Carretera           NaN      2178.0   \n",
       "3   Midmarket  Germany  Carretera           NaN       888.0   \n",
       "4   Midmarket   Mexico  Carretera           NaN      2470.0   \n",
       "\n",
       "   Manufacturing Price  Sale Price  Gross Sales  Discounts    Sales     COGS  \\\n",
       "0                    3          20      32370.0        0.0  32370.0  16185.0   \n",
       "1                    3          20      26420.0        0.0  26420.0  13210.0   \n",
       "2                    3          15      32670.0        0.0  32670.0  21780.0   \n",
       "3                    3          15      13320.0        0.0  13320.0   8880.0   \n",
       "4                    3          15      37050.0        0.0  37050.0  24700.0   \n",
       "\n",
       "    Profit        Date  Month Number Month Name  Year  \n",
       "0  16185.0  2014-01-01             1    January  2014  \n",
       "1  13210.0  2014-01-01             1    January  2014  \n",
       "2  10890.0  2014-06-01             6       June  2014  \n",
       "3   4440.0  2014-06-01             6       June  2014  \n",
       "4  12350.0  2014-06-01             6       June  2014  "
      ]
     },
     "metadata": {},
     "output_type": "display_data"
    },
    {
     "name": "stdout",
     "output_type": "stream",
     "text": [
      "\n",
      "--- Dataset Info ---\n",
      "<class 'pandas.core.frame.DataFrame'>\n",
      "RangeIndex: 700 entries, 0 to 699\n",
      "Data columns (total 16 columns):\n",
      " #   Column               Non-Null Count  Dtype  \n",
      "---  ------               --------------  -----  \n",
      " 0   Segment              700 non-null    object \n",
      " 1   Country              700 non-null    object \n",
      " 2   Product              700 non-null    object \n",
      " 3   Discount Band        647 non-null    object \n",
      " 4   Units Sold           700 non-null    float64\n",
      " 5   Manufacturing Price  700 non-null    int64  \n",
      " 6   Sale Price           700 non-null    int64  \n",
      " 7   Gross Sales          700 non-null    float64\n",
      " 8   Discounts            700 non-null    float64\n",
      " 9   Sales                700 non-null    float64\n",
      " 10  COGS                 700 non-null    float64\n",
      " 11  Profit               700 non-null    float64\n",
      " 12  Date                 700 non-null    object \n",
      " 13  Month Number         700 non-null    int64  \n",
      " 14  Month Name           700 non-null    object \n",
      " 15  Year                 700 non-null    int64  \n",
      "dtypes: float64(6), int64(4), object(6)\n",
      "memory usage: 87.6+ KB\n",
      "None\n",
      "\n",
      "--- Missing Values ---\n",
      "Segment                 0\n",
      "Country                 0\n",
      "Product                 0\n",
      "Discount Band          53\n",
      "Units Sold              0\n",
      "Manufacturing Price     0\n",
      "Sale Price              0\n",
      "Gross Sales             0\n",
      "Discounts               0\n",
      "Sales                   0\n",
      "COGS                    0\n",
      "Profit                  0\n",
      "Date                    0\n",
      "Month Number            0\n",
      "Month Name              0\n",
      "Year                    0\n",
      "dtype: int64\n"
     ]
    }
   ],
   "source": [
    "# --- Cell 3 ---\n",
    "# Load data from CSV\n",
    "df = pd.read_csv(CSV_PATH)\n",
    "# Clean column names (remove leading/trailing spaces)\n",
    "df.columns = df.columns.str.strip()\n",
    "# Display dataset info\n",
    "display(df.head())\n",
    "print(\"\\n--- Dataset Info ---\")\n",
    "print(df.info())\n",
    "print(\"\\n--- Missing Values ---\")\n",
    "print(df.isnull().sum())\n"
   ]
  },
  {
   "cell_type": "code",
   "execution_count": 4,
   "id": "a03d0a8d",
   "metadata": {},
   "outputs": [
    {
     "data": {
      "text/html": [
       "<div>\n",
       "<style scoped>\n",
       "    .dataframe tbody tr th:only-of-type {\n",
       "        vertical-align: middle;\n",
       "    }\n",
       "\n",
       "    .dataframe tbody tr th {\n",
       "        vertical-align: top;\n",
       "    }\n",
       "\n",
       "    .dataframe thead th {\n",
       "        text-align: right;\n",
       "    }\n",
       "</style>\n",
       "<table border=\"1\" class=\"dataframe\">\n",
       "  <thead>\n",
       "    <tr style=\"text-align: right;\">\n",
       "      <th></th>\n",
       "      <th>Units Sold</th>\n",
       "      <th>Manufacturing Price</th>\n",
       "      <th>Sale Price</th>\n",
       "      <th>Gross Sales</th>\n",
       "      <th>Discounts</th>\n",
       "      <th>Sales</th>\n",
       "      <th>COGS</th>\n",
       "      <th>Profit</th>\n",
       "      <th>Month Number</th>\n",
       "      <th>Year</th>\n",
       "    </tr>\n",
       "  </thead>\n",
       "  <tbody>\n",
       "    <tr>\n",
       "      <th>count</th>\n",
       "      <td>700.000000</td>\n",
       "      <td>700.000000</td>\n",
       "      <td>700.000000</td>\n",
       "      <td>7.000000e+02</td>\n",
       "      <td>700.000000</td>\n",
       "      <td>7.000000e+02</td>\n",
       "      <td>700.000000</td>\n",
       "      <td>700.000000</td>\n",
       "      <td>700.000000</td>\n",
       "      <td>700.000000</td>\n",
       "    </tr>\n",
       "    <tr>\n",
       "      <th>mean</th>\n",
       "      <td>1608.294286</td>\n",
       "      <td>96.477143</td>\n",
       "      <td>118.428571</td>\n",
       "      <td>1.827594e+05</td>\n",
       "      <td>13150.354629</td>\n",
       "      <td>1.696091e+05</td>\n",
       "      <td>145475.211429</td>\n",
       "      <td>24133.860371</td>\n",
       "      <td>7.900000</td>\n",
       "      <td>2013.750000</td>\n",
       "    </tr>\n",
       "    <tr>\n",
       "      <th>std</th>\n",
       "      <td>867.427859</td>\n",
       "      <td>108.602612</td>\n",
       "      <td>136.775515</td>\n",
       "      <td>2.542623e+05</td>\n",
       "      <td>22962.928775</td>\n",
       "      <td>2.367263e+05</td>\n",
       "      <td>203865.506118</td>\n",
       "      <td>42760.626563</td>\n",
       "      <td>3.377321</td>\n",
       "      <td>0.433322</td>\n",
       "    </tr>\n",
       "    <tr>\n",
       "      <th>min</th>\n",
       "      <td>200.000000</td>\n",
       "      <td>3.000000</td>\n",
       "      <td>7.000000</td>\n",
       "      <td>1.799000e+03</td>\n",
       "      <td>0.000000</td>\n",
       "      <td>1.655080e+03</td>\n",
       "      <td>918.000000</td>\n",
       "      <td>-40617.500000</td>\n",
       "      <td>1.000000</td>\n",
       "      <td>2013.000000</td>\n",
       "    </tr>\n",
       "    <tr>\n",
       "      <th>25%</th>\n",
       "      <td>905.000000</td>\n",
       "      <td>5.000000</td>\n",
       "      <td>12.000000</td>\n",
       "      <td>1.739175e+04</td>\n",
       "      <td>800.320000</td>\n",
       "      <td>1.592800e+04</td>\n",
       "      <td>7490.000000</td>\n",
       "      <td>2805.960000</td>\n",
       "      <td>5.750000</td>\n",
       "      <td>2013.750000</td>\n",
       "    </tr>\n",
       "    <tr>\n",
       "      <th>50%</th>\n",
       "      <td>1542.500000</td>\n",
       "      <td>10.000000</td>\n",
       "      <td>20.000000</td>\n",
       "      <td>3.798000e+04</td>\n",
       "      <td>2585.250000</td>\n",
       "      <td>3.554020e+04</td>\n",
       "      <td>22506.250000</td>\n",
       "      <td>9242.200000</td>\n",
       "      <td>9.000000</td>\n",
       "      <td>2014.000000</td>\n",
       "    </tr>\n",
       "    <tr>\n",
       "      <th>75%</th>\n",
       "      <td>2229.125000</td>\n",
       "      <td>250.000000</td>\n",
       "      <td>300.000000</td>\n",
       "      <td>2.790250e+05</td>\n",
       "      <td>15956.343750</td>\n",
       "      <td>2.610775e+05</td>\n",
       "      <td>245607.500000</td>\n",
       "      <td>22662.000000</td>\n",
       "      <td>10.250000</td>\n",
       "      <td>2014.000000</td>\n",
       "    </tr>\n",
       "    <tr>\n",
       "      <th>max</th>\n",
       "      <td>4492.500000</td>\n",
       "      <td>260.000000</td>\n",
       "      <td>350.000000</td>\n",
       "      <td>1.207500e+06</td>\n",
       "      <td>149677.500000</td>\n",
       "      <td>1.159200e+06</td>\n",
       "      <td>950625.000000</td>\n",
       "      <td>262200.000000</td>\n",
       "      <td>12.000000</td>\n",
       "      <td>2014.000000</td>\n",
       "    </tr>\n",
       "  </tbody>\n",
       "</table>\n",
       "</div>"
      ],
      "text/plain": [
       "        Units Sold  Manufacturing Price  Sale Price   Gross Sales  \\\n",
       "count   700.000000           700.000000  700.000000  7.000000e+02   \n",
       "mean   1608.294286            96.477143  118.428571  1.827594e+05   \n",
       "std     867.427859           108.602612  136.775515  2.542623e+05   \n",
       "min     200.000000             3.000000    7.000000  1.799000e+03   \n",
       "25%     905.000000             5.000000   12.000000  1.739175e+04   \n",
       "50%    1542.500000            10.000000   20.000000  3.798000e+04   \n",
       "75%    2229.125000           250.000000  300.000000  2.790250e+05   \n",
       "max    4492.500000           260.000000  350.000000  1.207500e+06   \n",
       "\n",
       "           Discounts         Sales           COGS         Profit  \\\n",
       "count     700.000000  7.000000e+02     700.000000     700.000000   \n",
       "mean    13150.354629  1.696091e+05  145475.211429   24133.860371   \n",
       "std     22962.928775  2.367263e+05  203865.506118   42760.626563   \n",
       "min         0.000000  1.655080e+03     918.000000  -40617.500000   \n",
       "25%       800.320000  1.592800e+04    7490.000000    2805.960000   \n",
       "50%      2585.250000  3.554020e+04   22506.250000    9242.200000   \n",
       "75%     15956.343750  2.610775e+05  245607.500000   22662.000000   \n",
       "max    149677.500000  1.159200e+06  950625.000000  262200.000000   \n",
       "\n",
       "       Month Number         Year  \n",
       "count    700.000000   700.000000  \n",
       "mean       7.900000  2013.750000  \n",
       "std        3.377321     0.433322  \n",
       "min        1.000000  2013.000000  \n",
       "25%        5.750000  2013.750000  \n",
       "50%        9.000000  2014.000000  \n",
       "75%       10.250000  2014.000000  \n",
       "max       12.000000  2014.000000  "
      ]
     },
     "metadata": {},
     "output_type": "display_data"
    },
    {
     "name": "stdout",
     "output_type": "stream",
     "text": [
      "\n",
      "--- Unique values per categorical column ---\n",
      "Segment: 5 unique values\n",
      "Country: 5 unique values\n",
      "Product: 6 unique values\n",
      "Discount Band: 3 unique values\n",
      "Date: 16 unique values\n",
      "Month Name: 12 unique values\n"
     ]
    }
   ],
   "source": [
    "# --- Cell 4 ---\n",
    "# Basic numerical statistics\n",
    "display(df.describe())\n",
    "\n",
    "# Check unique values in key columns\n",
    "print(\"\\n--- Unique values per categorical column ---\")\n",
    "for col in df.select_dtypes(include=\"object\").columns:\n",
    "    print(f\"{col}: {df[col].nunique()} unique values\")\n"
   ]
  },
  {
   "cell_type": "code",
   "execution_count": 5,
   "id": "1351dd17",
   "metadata": {},
   "outputs": [
    {
     "data": {
      "image/png": "[encoded data removed]",
      "text/plain": [
       "<Figure size 1000x600 with 2 Axes>"
      ]
     },
     "metadata": {},
     "output_type": "display_data"
    }
   ],
   "source": [
    "# --- Cell 5 ---\n",
    "# Compute correlation for numerical columns\n",
    "corr = df.corr(numeric_only=True)\n",
    "\n",
    "plt.figure(figsize=(10, 6))\n",
    "sns.heatmap(corr, annot=True, cmap=\"coolwarm\", fmt=\".2f\")\n",
    "plt.title(\"Correlation Matrix\")\n",
    "plt.show()\n"
   ]
  },
  {
   "cell_type": "code",
   "execution_count": 7,
   "id": "288718b2",
   "metadata": {},
   "outputs": [
    {
     "data": {
      "image/png": "[encoded data removed]",
      "text/plain": [
       "<Figure size 1200x600 with 1 Axes>"
      ]
     },
     "metadata": {},
     "output_type": "display_data"
    }
   ],
   "source": [
    "# --- Cell 6 ---\n",
    "# Static grouped barplot\n",
    "plt.figure(figsize=(12, 6))\n",
    "sns.barplot(data=df, x=\"Country\", y=\"Profit\", hue=\"Segment\", estimator=sum)\n",
    "plt.title(\"Total Profit by Segment and Country\")\n",
    "plt.xticks(rotation=45)\n",
    "plt.tight_layout()\n",
    "plt.show()\n"
   ]
  },
  {
   "cell_type": "code",
   "execution_count": 20,
   "id": "74836828",
   "metadata": {},
   "outputs": [
    {
     "name": "stdout",
     "output_type": "stream",
     "text": [
      "✅ Interactive chart saved to: visualizations/profit_by_segment_country.html\n"
     ]
    },
    {
     "data": {
      "application/vnd.plotly.v1+json": {
       "config": {
        "plotlyServerURL": "https://plot.ly"
       },
       "data": [
        {
         "alignmentgroup": "True",
         "hovertemplate": "Segment=Channel Partners<br>Country=%{x}<br>Profit=%{y}<extra></extra>",
         "legendgroup": "Channel Partners",
         "marker": {
          "color": "#636efa",
          "pattern": {
           "shape": ""
          }
         },
         "name": "Channel Partners",
         "offsetgroup": "Channel Partners",
         "orientation": "v",
         "showlegend": true,
         "textposition": "auto",
         "type": "bar",
         "x": [
          "Canada",
          "France",
          "Germany",
          "Mexico",
          "United States of America"
         ],
         "xaxis": "x",
         "y": {
          "bdata": "9ihcjwjpFUEK16NwdZMQQaRwPQr3MQ5BPgrXo1DcBEGF61G4alsQQQ==",
          "dtype": "f8"
         },
         "yaxis": "y"
        },
        {
         "alignmentgroup": "True",
         "hovertemplate": "Segment=Enterprise<br>Country=%{x}<br>Profit=%{y}<extra></extra>",
         "legendgroup": "Enterprise",
         "marker": {
          "color": "#EF553B",
          "pattern": {
           "shape": ""
          }
         },
         "name": "Enterprise",
         "offsetgroup": "Enterprise",
         "orientation": "v",
         "showlegend": true,
         "textposition": "auto",
         "type": "bar",
         "x": [
          "Canada",
          "France",
          "Germany",
          "Mexico",
          "United States of America"
         ],
         "xaxis": "x",
         "y": {
          "bdata": "AAAAAEyq/cAAAAAAVmD3wAAAAAAcxvjAAAAAAGx2/cAAAAAA+GAFwQ==",
          "dtype": "f8"
         },
         "yaxis": "y"
        },
        {
         "alignmentgroup": "True",
         "hovertemplate": "Segment=Government<br>Country=%{x}<br>Profit=%{y}<extra></extra>",
         "legendgroup": "Government",
         "marker": {
          "color": "#00cc96",
          "pattern": {
           "shape": ""
          }
         },
         "name": "Government",
         "offsetgroup": "Government",
         "orientation": "v",
         "showlegend": true,
         "textposition": "auto",
         "type": "bar",
         "x": [
          "Canada",
          "France",
          "Germany",
          "Mexico",
          "United States of America"
         ],
         "xaxis": "x",
         "y": {
          "bdata": "KVyPwhM7QUHC9SiczaxEQYXrUfjbbERBFa5HYXcdP0HC9SgcG/45QQ==",
          "dtype": "f8"
         },
         "yaxis": "y"
        },
        {
         "alignmentgroup": "True",
         "hovertemplate": "Segment=Midmarket<br>Country=%{x}<br>Profit=%{y}<extra></extra>",
         "legendgroup": "Midmarket",
         "marker": {
          "color": "#ab63fa",
          "pattern": {
           "shape": ""
          }
         },
         "name": "Midmarket",
         "offsetgroup": "Midmarket",
         "orientation": "v",
         "showlegend": true,
         "textposition": "auto",
         "type": "bar",
         "x": [
          "Canada",
          "France",
          "Germany",
          "Mexico",
          "United States of America"
         ],
         "xaxis": "x",
         "y": {
          "bdata": "zczMzEcsAEGamZmZ8BUEQQAAAACs1vRAMzMzM5NgAkH/////LQz/QA==",
          "dtype": "f8"
         },
         "yaxis": "y"
        },
        {
         "alignmentgroup": "True",
         "hovertemplate": "Segment=Small Business<br>Country=%{x}<br>Profit=%{y}<extra></extra>",
         "legendgroup": "Small Business",
         "marker": {
          "color": "#FFA15A",
          "pattern": {
           "shape": ""
          }
         },
         "name": "Small Business",
         "offsetgroup": "Small Business",
         "orientation": "v",
         "showlegend": true,
         "textposition": "auto",
         "type": "bar",
         "x": [
          "Canada",
          "France",
          "Germany",
          "Mexico",
          "United States of America"
         ],
         "xaxis": "x",
         "y": {
          "bdata": "AAAAAH59K0EAAAAA10wmQQAAAAAKjydBAAAAAKxfJEEAAAAAu1swQQ==",
          "dtype": "f8"
         },
         "yaxis": "y"
        }
       ],
       "layout": {
        "barmode": "group",
        "legend": {
         "title": {
          "text": "Segment"
         },
         "tracegroupgap": 0
        },
        "template": {
         "data": {
          "bar": [
           {
            "error_x": {
             "color": "#2a3f5f"
            },
            "error_y": {
             "color": "#2a3f5f"
            },
            "marker": {
             "line": {
              "color": "white",
              "width": 0.5
             },
             "pattern": {
              "fillmode": "overlay",
              "size": 10,
              "solidity": 0.2
             }
            },
            "type": "bar"
           }
          ],
          "barpolar": [
           {
            "marker": {
             "line": {
              "color": "white",
              "width": 0.5
             },
             "pattern": {
              "fillmode": "overlay",
              "size": 10,
              "solidity": 0.2
             }
            },
            "type": "barpolar"
           }
          ],
          "carpet": [
           {
            "aaxis": {
             "endlinecolor": "#2a3f5f",
             "gridcolor": "#C8D4E3",
             "linecolor": "#C8D4E3",
             "minorgridcolor": "#C8D4E3",
             "startlinecolor": "#2a3f5f"
            },
            "baxis": {
             "endlinecolor": "#2a3f5f",
             "gridcolor": "#C8D4E3",
             "linecolor": "#C8D4E3",
             "minorgridcolor": "#C8D4E3",
             "startlinecolor": "#2a3f5f"
            },
            "type": "carpet"
           }
          ],
          "choropleth": [
           {
            "colorbar": {
             "outlinewidth": 0,
             "ticks": ""
            },
            "type": "choropleth"
           }
          ],
          "contour": [
           {
            "colorbar": {
             "outlinewidth": 0,
             "ticks": ""
            },
            "colorscale": [
             [
              0,
              "#0d0887"
             ],
             [
              0.1111111111111111,
              "#46039f"
             ],
             [
              0.2222222222222222,
              "#7201a8"
             ],
             [
              0.3333333333333333,
              "#9c179e"
             ],
             [
              0.4444444444444444,
              "#bd3786"
             ],
             [
              0.5555555555555556,
              "#d8576b"
             ],
             [
              0.6666666666666666,
              "#ed7953"
             ],
             [
              0.7777777777777778,
              "#fb9f3a"
             ],
             [
              0.8888888888888888,
              "#fdca26"
             ],
             [
              1,
              "#f0f921"
             ]
            ],
            "type": "contour"
           }
          ],
          "contourcarpet": [
           {
            "colorbar": {
             "outlinewidth": 0,
             "ticks": ""
            },
            "type": "contourcarpet"
           }
          ],
          "heatmap": [
           {
            "colorbar": {
             "outlinewidth": 0,
             "ticks": ""
            },
            "colorscale": [
             [
              0,
              "#0d0887"
             ],
             [
              0.1111111111111111,
              "#46039f"
             ],
             [
              0.2222222222222222,
              "#7201a8"
             ],
             [
              0.3333333333333333,
              "#9c179e"
             ],
             [
              0.4444444444444444,
              "#bd3786"
             ],
             [
              0.5555555555555556,
              "#d8576b"
             ],
             [
              0.6666666666666666,
              "#ed7953"
             ],
             [
              0.7777777777777778,
              "#fb9f3a"
             ],
             [
              0.8888888888888888,
              "#fdca26"
             ],
             [
              1,
              "#f0f921"
             ]
            ],
            "type": "heatmap"
           }
          ],
          "histogram": [
           {
            "marker": {
             "pattern": {
              "fillmode": "overlay",
              "size": 10,
              "solidity": 0.2
             }
            },
            "type": "histogram"
           }
          ],
          "histogram2d": [
           {
            "colorbar": {
             "outlinewidth": 0,
             "ticks": ""
            },
            "colorscale": [
             [
              0,
              "#0d0887"
             ],
             [
              0.1111111111111111,
              "#46039f"
             ],
             [
              0.2222222222222222,
              "#7201a8"
             ],
             [
              0.3333333333333333,
              "#9c179e"
             ],
             [
              0.4444444444444444,
              "#bd3786"
             ],
             [
              0.5555555555555556,
              "#d8576b"
             ],
             [
              0.6666666666666666,
              "#ed7953"
             ],
             [
              0.7777777777777778,
              "#fb9f3a"
             ],
             [
              0.8888888888888888,
              "#fdca26"
             ],
             [
              1,
              "#f0f921"
             ]
            ],
            "type": "histogram2d"
           }
          ],
          "histogram2dcontour": [
           {
            "colorbar": {
             "outlinewidth": 0,
             "ticks": ""
            },
            "colorscale": [
             [
              0,
              "#0d0887"
             ],
             [
              0.1111111111111111,
              "#46039f"
             ],
             [
              0.2222222222222222,
              "#7201a8"
             ],
             [
              0.3333333333333333,
              "#9c179e"
             ],
             [
              0.4444444444444444,
              "#bd3786"
             ],
             [
              0.5555555555555556,
              "#d8576b"
             ],
             [
              0.6666666666666666,
              "#ed7953"
             ],
             [
              0.7777777777777778,
              "#fb9f3a"
             ],
             [
              0.8888888888888888,
              "#fdca26"
             ],
             [
              1,
              "#f0f921"
             ]
            ],
            "type": "histogram2dcontour"
           }
          ],
          "mesh3d": [
           {
            "colorbar": {
             "outlinewidth": 0,
             "ticks": ""
            },
            "type": "mesh3d"
           }
          ],
          "parcoords": [
           {
            "line": {
             "colorbar": {
              "outlinewidth": 0,
              "ticks": ""
             }
            },
            "type": "parcoords"
           }
          ],
          "pie": [
           {
            "automargin": true,
            "type": "pie"
           }
          ],
          "scatter": [
           {
            "fillpattern": {
             "fillmode": "overlay",
             "size": 10,
             "solidity": 0.2
            },
            "type": "scatter"
           }
          ],
          "scatter3d": [
           {
            "line": {
             "colorbar": {
              "outlinewidth": 0,
              "ticks": ""
             }
            },
            "marker": {
             "colorbar": {
              "outlinewidth": 0,
              "ticks": ""
             }
            },
            "type": "scatter3d"
           }
          ],
          "scattercarpet": [
           {
            "marker": {
             "colorbar": {
              "outlinewidth": 0,
              "ticks": ""
             }
            },
            "type": "scattercarpet"
           }
          ],
          "scattergeo": [
           {
            "marker": {
             "colorbar": {
              "outlinewidth": 0,
              "ticks": ""
             }
            },
            "type": "scattergeo"
           }
          ],
          "scattergl": [
           {
            "marker": {
             "colorbar": {
              "outlinewidth": 0,
              "ticks": ""
             }
            },
            "type": "scattergl"
           }
          ],
          "scattermap": [
           {
            "marker": {
             "colorbar": {
              "outlinewidth": 0,
              "ticks": ""
             }
            },
            "type": "scattermap"
           }
          ],
          "scattermapbox": [
           {
            "marker": {
             "colorbar": {
              "outlinewidth": 0,
              "ticks": ""
             }
            },
            "type": "scattermapbox"
           }
          ],
          "scatterpolar": [
           {
            "marker": {
             "colorbar": {
              "outlinewidth": 0,
              "ticks": ""
             }
            },
            "type": "scatterpolar"
           }
          ],
          "scatterpolargl": [
           {
            "marker": {
             "colorbar": {
              "outlinewidth": 0,
              "ticks": ""
             }
            },
            "type": "scatterpolargl"
           }
          ],
          "scatterternary": [
           {
            "marker": {
             "colorbar": {
              "outlinewidth": 0,
              "ticks": ""
             }
            },
            "type": "scatterternary"
           }
          ],
          "surface": [
           {
            "colorbar": {
             "outlinewidth": 0,
             "ticks": ""
            },
            "colorscale": [
             [
              0,
              "#0d0887"
             ],
             [
              0.1111111111111111,
              "#46039f"
             ],
             [
              0.2222222222222222,
              "#7201a8"
             ],
             [
              0.3333333333333333,
              "#9c179e"
             ],
             [
              0.4444444444444444,
              "#bd3786"
             ],
             [
              0.5555555555555556,
              "#d8576b"
             ],
             [
              0.6666666666666666,
              "#ed7953"
             ],
             [
              0.7777777777777778,
              "#fb9f3a"
             ],
             [
              0.8888888888888888,
              "#fdca26"
             ],
             [
              1,
              "#f0f921"
             ]
            ],
            "type": "surface"
           }
          ],
          "table": [
           {
            "cells": {
             "fill": {
              "color": "#EBF0F8"
             },
             "line": {
              "color": "white"
             }
            },
            "header": {
             "fill": {
              "color": "#C8D4E3"
             },
             "line": {
              "color": "white"
             }
            },
            "type": "table"
           }
          ]
         },
         "layout": {
          "annotationdefaults": {
           "arrowcolor": "#2a3f5f",
           "arrowhead": 0,
           "arrowwidth": 1
          },
          "autotypenumbers": "strict",
          "coloraxis": {
           "colorbar": {
            "outlinewidth": 0,
            "ticks": ""
           }
          },
          "colorscale": {
           "diverging": [
            [
             0,
             "#8e0152"
            ],
            [
             0.1,
             "#c51b7d"
            ],
            [
             0.2,
             "#de77ae"
            ],
            [
             0.3,
             "#f1b6da"
            ],
            [
             0.4,
             "#fde0ef"
            ],
            [
             0.5,
             "#f7f7f7"
            ],
            [
             0.6,
             "#e6f5d0"
            ],
            [
             0.7,
             "#b8e186"
            ],
            [
             0.8,
             "#7fbc41"
            ],
            [
             0.9,
             "#4d9221"
            ],
            [
             1,
             "#276419"
            ]
           ],
           "sequential": [
            [
             0,
             "#0d0887"
            ],
            [
             0.1111111111111111,
             "#46039f"
            ],
            [
             0.2222222222222222,
             "#7201a8"
            ],
            [
             0.3333333333333333,
             "#9c179e"
            ],
            [
             0.4444444444444444,
             "#bd3786"
            ],
            [
             0.5555555555555556,
             "#d8576b"
            ],
            [
             0.6666666666666666,
             "#ed7953"
            ],
            [
             0.7777777777777778,
             "#fb9f3a"
            ],
            [
             0.8888888888888888,
             "#fdca26"
            ],
            [
             1,
             "#f0f921"
            ]
           ],
           "sequentialminus": [
            [
             0,
             "#0d0887"
            ],
            [
             0.1111111111111111,
             "#46039f"
            ],
            [
             0.2222222222222222,
             "#7201a8"
            ],
            [
             0.3333333333333333,
             "#9c179e"
            ],
            [
             0.4444444444444444,
             "#bd3786"
            ],
            [
             0.5555555555555556,
             "#d8576b"
            ],
            [
             0.6666666666666666,
             "#ed7953"
            ],
            [
             0.7777777777777778,
             "#fb9f3a"
            ],
            [
             0.8888888888888888,
             "#fdca26"
            ],
            [
             1,
             "#f0f921"
            ]
           ]
          },
          "colorway": [
           "#636efa",
           "#EF553B",
           "#00cc96",
           "#ab63fa",
           "#FFA15A",
           "#19d3f3",
           "#FF6692",
           "#B6E880",
           "#FF97FF",
           "#FECB52"
          ],
          "font": {
           "color": "#2a3f5f"
          },
          "geo": {
           "bgcolor": "white",
           "lakecolor": "white",
           "landcolor": "white",
           "showlakes": true,
           "showland": true,
           "subunitcolor": "#C8D4E3"
          },
          "hoverlabel": {
           "align": "left"
          },
          "hovermode": "closest",
          "mapbox": {
           "style": "light"
          },
          "paper_bgcolor": "white",
          "plot_bgcolor": "white",
          "polar": {
           "angularaxis": {
            "gridcolor": "#EBF0F8",
            "linecolor": "#EBF0F8",
            "ticks": ""
           },
           "bgcolor": "white",
           "radialaxis": {
            "gridcolor": "#EBF0F8",
            "linecolor": "#EBF0F8",
            "ticks": ""
           }
          },
          "scene": {
           "xaxis": {
            "backgroundcolor": "white",
            "gridcolor": "#DFE8F3",
            "gridwidth": 2,
            "linecolor": "#EBF0F8",
            "showbackground": true,
            "ticks": "",
            "zerolinecolor": "#EBF0F8"
           },
           "yaxis": {
            "backgroundcolor": "white",
            "gridcolor": "#DFE8F3",
            "gridwidth": 2,
            "linecolor": "#EBF0F8",
            "showbackground": true,
            "ticks": "",
            "zerolinecolor": "#EBF0F8"
           },
           "zaxis": {
            "backgroundcolor": "white",
            "gridcolor": "#DFE8F3",
            "gridwidth": 2,
            "linecolor": "#EBF0F8",
            "showbackground": true,
            "ticks": "",
            "zerolinecolor": "#EBF0F8"
           }
          },
          "shapedefaults": {
           "line": {
            "color": "#2a3f5f"
           }
          },
          "ternary": {
           "aaxis": {
            "gridcolor": "#DFE8F3",
            "linecolor": "#A2B1C6",
            "ticks": ""
           },
           "baxis": {
            "gridcolor": "#DFE8F3",
            "linecolor": "#A2B1C6",
            "ticks": ""
           },
           "bgcolor": "white",
           "caxis": {
            "gridcolor": "#DFE8F3",
            "linecolor": "#A2B1C6",
            "ticks": ""
           }
          },
          "title": {
           "x": 0.05
          },
          "xaxis": {
           "automargin": true,
           "gridcolor": "#EBF0F8",
           "linecolor": "#EBF0F8",
           "ticks": "",
           "title": {
            "standoff": 15
           },
           "zerolinecolor": "#EBF0F8",
           "zerolinewidth": 2
          },
          "yaxis": {
           "automargin": true,
           "gridcolor": "#EBF0F8",
           "linecolor": "#EBF0F8",
           "ticks": "",
           "title": {
            "standoff": 15
           },
           "zerolinecolor": "#EBF0F8",
           "zerolinewidth": 2
          }
         }
        },
        "title": {
         "text": "Total Profit by Segment and Country (Interactive)"
        },
        "xaxis": {
         "anchor": "y",
         "domain": [
          0,
          1
         ],
         "title": {
          "text": "Country"
         }
        },
        "yaxis": {
         "anchor": "x",
         "domain": [
          0,
          1
         ],
         "title": {
          "text": "Profit"
         }
        }
       }
      }
     },
     "metadata": {},
     "output_type": "display_data"
    }
   ],
   "source": [
    "# --- Cell 7 ---\n",
    "# Interactive version with aggregated data\n",
    "# Aggregate profit by segment and country\n",
    "df_grouped = df.groupby([\"Country\", \"Segment\"], as_index=False)[\"Profit\"].sum()\n",
    "\n",
    "fig = px.bar(\n",
    "    df_grouped,\n",
    "    x=\"Country\",\n",
    "    y=\"Profit\",\n",
    "    color=\"Segment\",\n",
    "    title=\"Total Profit by Segment and Country (Interactive)\",\n",
    "    barmode=\"group\",\n",
    "    template=\"plotly_white\"\n",
    ")\n",
    "\n",
    "html_path = VIS_PATH / \"profit_by_segment_country.html\"\n",
    "fig.write_html(html_path)\n",
    "print(f\"✅ Interactive chart saved to: {html_path}\")\n",
    "\n",
    "fig.show()\n"
   ]
  },
  {
   "cell_type": "code",
   "execution_count": 21,
   "id": "d9e398c6",
   "metadata": {},
   "outputs": [
    {
     "data": {
      "image/png": "[encoded data removed]",
      "text/plain": [
       "<Figure size 1000x600 with 1 Axes>"
      ]
     },
     "metadata": {},
     "output_type": "display_data"
    }
   ],
   "source": [
    "# --- Cell 8 ---\n",
    "# Scatterplot with regression for each Segment\n",
    "\n",
    "plt.figure(figsize=(10, 6))\n",
    "sns.scatterplot(data=df, x=\"Discounts\", y=\"Profit\", hue=\"Segment\", alpha=0.7)\n",
    "plt.xscale(\"log\")\n",
    "plt.title(\"Relationship Between Discounts and Profit (log scale)\", fontsize=14)\n",
    "plt.tight_layout()\n",
    "plt.show()\n",
    "\n",
    "\n"
   ]
  },
  {
   "cell_type": "code",
   "execution_count": 8,
   "id": "1ee453cc",
   "metadata": {},
   "outputs": [
    {
     "name": "stdout",
     "output_type": "stream",
     "text": [
      "✅ Interactive chart saved to: visualizations/profit_vs_discount.html\n"
     ]
    },
    {
     "data": {
      "application/vnd.plotly.v1+json": {
       "config": {
        "plotlyServerURL": "https://plot.ly"
       },
       "data": [
        {
         "customdata": [
          [
           "Carretera",
           "Canada"
          ],
          [
           "Carretera",
           "Germany"
          ],
          [
           "Carretera",
           "Germany"
          ],
          [
           "Montana",
           "France"
          ],
          [
           "Montana",
           "Germany"
          ],
          [
           "Paseo",
           "Canada"
          ],
          [
           "Paseo",
           "Germany"
          ],
          [
           "Paseo",
           "Mexico"
          ],
          [
           "Paseo",
           "United States of America"
          ],
          [
           "Paseo",
           "Canada"
          ],
          [
           "Paseo",
           "Canada"
          ],
          [
           "Paseo",
           "Germany"
          ],
          [
           "Velo",
           "Mexico"
          ],
          [
           "Velo",
           "Germany"
          ],
          [
           "VTT",
           "France"
          ],
          [
           "VTT",
           "Canada"
          ],
          [
           "Amarilla",
           "France"
          ],
          [
           "Amarilla",
           "France"
          ],
          [
           "Amarilla",
           "Germany"
          ],
          [
           "Amarilla",
           "United States of America"
          ],
          [
           "Paseo",
           "France"
          ],
          [
           "Paseo",
           "France"
          ],
          [
           "Velo",
           "France"
          ],
          [
           "VTT",
           "Canada"
          ],
          [
           "Carretera",
           "Mexico"
          ],
          [
           "Carretera",
           "United States of America"
          ],
          [
           "Carretera",
           "Mexico"
          ],
          [
           "Carretera",
           "France"
          ],
          [
           "Montana",
           "France"
          ],
          [
           "Montana",
           "Canada"
          ],
          [
           "Paseo",
           "United States of America"
          ],
          [
           "Paseo",
           "France"
          ],
          [
           "Velo",
           "France"
          ],
          [
           "Velo",
           "Mexico"
          ],
          [
           "Velo",
           "Canada"
          ],
          [
           "VTT",
           "Germany"
          ],
          [
           "VTT",
           "Canada"
          ],
          [
           "VTT",
           "Mexico"
          ],
          [
           "Carretera",
           "France"
          ],
          [
           "Carretera",
           "Canada"
          ],
          [
           "Montana",
           "United States of America"
          ],
          [
           "Paseo",
           "Canada"
          ],
          [
           "Paseo",
           "United States of America"
          ],
          [
           "Velo",
           "United States of America"
          ],
          [
           "Velo",
           "Germany"
          ],
          [
           "Velo",
           "Germany"
          ],
          [
           "Velo",
           "Mexico"
          ],
          [
           "VTT",
           "Germany"
          ],
          [
           "VTT",
           "United States of America"
          ],
          [
           "VTT",
           "Mexico"
          ],
          [
           "Amarilla",
           "Germany"
          ],
          [
           "Amarilla",
           "United States of America"
          ],
          [
           "Amarilla",
           "France"
          ],
          [
           "Carretera",
           "Germany"
          ],
          [
           "Montana",
           "Germany"
          ],
          [
           "Montana",
           "France"
          ],
          [
           "Montana",
           "Germany"
          ],
          [
           "VTT",
           "Mexico"
          ],
          [
           "Carretera",
           "Canada"
          ],
          [
           "Paseo",
           "Mexico"
          ],
          [
           "Velo",
           "Canada"
          ],
          [
           "Velo",
           "United States of America"
          ],
          [
           "Carretera",
           "Canada"
          ],
          [
           "Carretera",
           "United States of America"
          ],
          [
           "Montana",
           "Canada"
          ],
          [
           "Paseo",
           "Canada"
          ],
          [
           "Paseo",
           "United States of America"
          ],
          [
           "Paseo",
           "Canada"
          ],
          [
           "Paseo",
           "United States of America"
          ],
          [
           "Paseo",
           "United States of America"
          ],
          [
           "Velo",
           "Canada"
          ],
          [
           "Velo",
           "France"
          ],
          [
           "VTT",
           "United States of America"
          ],
          [
           "VTT",
           "France"
          ],
          [
           "Amarilla",
           "Mexico"
          ],
          [
           "Amarilla",
           "Germany"
          ],
          [
           "Amarilla",
           "Canada"
          ],
          [
           "Montana",
           "Germany"
          ],
          [
           "Paseo",
           "Germany"
          ],
          [
           "Paseo",
           "Canada"
          ],
          [
           "Paseo",
           "Mexico"
          ],
          [
           "VTT",
           "Mexico"
          ],
          [
           "Amarilla",
           "Mexico"
          ],
          [
           "Amarilla",
           "Germany"
          ],
          [
           "Carretera",
           "France"
          ],
          [
           "Carretera",
           "Germany"
          ],
          [
           "Carretera",
           "United States of America"
          ],
          [
           "Carretera",
           "France"
          ],
          [
           "Montana",
           "France"
          ],
          [
           "Montana",
           "Mexico"
          ],
          [
           "Paseo",
           "France"
          ],
          [
           "Paseo",
           "United States of America"
          ],
          [
           "Paseo",
           "United States of America"
          ],
          [
           "Paseo",
           "Canada"
          ],
          [
           "Paseo",
           "Canada"
          ],
          [
           "Paseo",
           "Canada"
          ],
          [
           "Paseo",
           "United States of America"
          ],
          [
           "Paseo",
           "France"
          ],
          [
           "Velo",
           "United States of America"
          ],
          [
           "Velo",
           "United States of America"
          ],
          [
           "Velo",
           "France"
          ],
          [
           "Velo",
           "France"
          ],
          [
           "VTT",
           "Canada"
          ],
          [
           "VTT",
           "United States of America"
          ],
          [
           "VTT",
           "Germany"
          ],
          [
           "VTT",
           "United States of America"
          ],
          [
           "VTT",
           "United States of America"
          ],
          [
           "VTT",
           "France"
          ],
          [
           "Amarilla",
           "Germany"
          ],
          [
           "Amarilla",
           "Canada"
          ],
          [
           "Amarilla",
           "Canada"
          ],
          [
           "Carretera",
           "United States of America"
          ],
          [
           "Carretera",
           "United States of America"
          ],
          [
           "Montana",
           "Mexico"
          ],
          [
           "Montana",
           "Germany"
          ],
          [
           "Montana",
           "France"
          ],
          [
           "Paseo",
           "France"
          ],
          [
           "Paseo",
           "United States of America"
          ],
          [
           "Velo",
           "France"
          ],
          [
           "Velo",
           "Mexico"
          ],
          [
           "Velo",
           "France"
          ],
          [
           "VTT",
           "Mexico"
          ],
          [
           "VTT",
           "Mexico"
          ],
          [
           "Amarilla",
           "Mexico"
          ],
          [
           "Amarilla",
           "United States of America"
          ],
          [
           "Amarilla",
           "France"
          ],
          [
           "Amarilla",
           "France"
          ],
          [
           "Montana",
           "France"
          ],
          [
           "Paseo",
           "France"
          ],
          [
           "Velo",
           "Germany"
          ],
          [
           "Velo",
           "Mexico"
          ],
          [
           "Carretera",
           "Mexico"
          ],
          [
           "Paseo",
           "France"
          ],
          [
           "Velo",
           "Canada"
          ],
          [
           "Velo",
           "United States of America"
          ],
          [
           "Velo",
           "Canada"
          ],
          [
           "VTT",
           "Canada"
          ],
          [
           "Amarilla",
           "Canada"
          ],
          [
           "Carretera",
           "United States of America"
          ],
          [
           "Montana",
           "France"
          ],
          [
           "Paseo",
           "France"
          ],
          [
           "Paseo",
           "Germany"
          ],
          [
           "Velo",
           "Mexico"
          ],
          [
           "Velo",
           "France"
          ],
          [
           "Velo",
           "United States of America"
          ],
          [
           "Velo",
           "Germany"
          ],
          [
           "Amarilla",
           "France"
          ],
          [
           "Amarilla",
           "Canada"
          ],
          [
           "Montana",
           "Canada"
          ],
          [
           "Montana",
           "United States of America"
          ],
          [
           "Paseo",
           "Canada"
          ],
          [
           "Amarilla",
           "United States of America"
          ],
          [
           "Carretera",
           "Mexico"
          ],
          [
           "Montana",
           "Canada"
          ],
          [
           "Montana",
           "Germany"
          ],
          [
           "Paseo",
           "Germany"
          ],
          [
           "Paseo",
           "Germany"
          ],
          [
           "Paseo",
           "Germany"
          ],
          [
           "Paseo",
           "United States of America"
          ],
          [
           "Paseo",
           "Germany"
          ],
          [
           "Paseo",
           "Germany"
          ],
          [
           "Paseo",
           "Germany"
          ],
          [
           "Paseo",
           "Mexico"
          ],
          [
           "Paseo",
           "Germany"
          ],
          [
           "Paseo",
           "Mexico"
          ],
          [
           "Paseo",
           "Mexico"
          ],
          [
           "Velo",
           "United States of America"
          ],
          [
           "Velo",
           "Germany"
          ],
          [
           "VTT",
           "France"
          ],
          [
           "VTT",
           "Germany"
          ],
          [
           "VTT",
           "France"
          ],
          [
           "VTT",
           "Germany"
          ],
          [
           "Amarilla",
           "Canada"
          ],
          [
           "Amarilla",
           "United States of America"
          ],
          [
           "Amarilla",
           "Germany"
          ],
          [
           "Amarilla",
           "Germany"
          ],
          [
           "VTT",
           "United States of America"
          ],
          [
           "Montana",
           "France"
          ],
          [
           "Montana",
           "Canada"
          ],
          [
           "Paseo",
           "Mexico"
          ],
          [
           "Velo",
           "Germany"
          ],
          [
           "Velo",
           "Canada"
          ],
          [
           "VTT",
           "United States of America"
          ],
          [
           "Amarilla",
           "United States of America"
          ],
          [
           "Amarilla",
           "Canada"
          ],
          [
           "Amarilla",
           "Mexico"
          ],
          [
           "Carretera",
           "Germany"
          ],
          [
           "Carretera",
           "Canada"
          ],
          [
           "Carretera",
           "Mexico"
          ],
          [
           "Paseo",
           "United States of America"
          ],
          [
           "Paseo",
           "Mexico"
          ],
          [
           "Paseo",
           "Germany"
          ],
          [
           "VTT",
           "Germany"
          ],
          [
           "VTT",
           "France"
          ],
          [
           "VTT",
           "Mexico"
          ],
          [
           "Amarilla",
           "Mexico"
          ],
          [
           "Montana",
           "United States of America"
          ],
          [
           "Montana",
           "United States of America"
          ],
          [
           "Paseo",
           "France"
          ],
          [
           "Paseo",
           "Germany"
          ],
          [
           "Velo",
           "France"
          ],
          [
           "Velo",
           "Germany"
          ],
          [
           "Velo",
           "Germany"
          ],
          [
           "VTT",
           "United States of America"
          ],
          [
           "VTT",
           "Germany"
          ],
          [
           "Amarilla",
           "Canada"
          ],
          [
           "Amarilla",
           "Mexico"
          ],
          [
           "Amarilla",
           "Canada"
          ],
          [
           "Paseo",
           "France"
          ],
          [
           "VTT",
           "United States of America"
          ],
          [
           "Carretera",
           "Germany"
          ],
          [
           "Carretera",
           "Mexico"
          ],
          [
           "Montana",
           "Germany"
          ],
          [
           "Montana",
           "Germany"
          ],
          [
           "Paseo",
           "Mexico"
          ],
          [
           "Paseo",
           "Canada"
          ],
          [
           "Paseo",
           "Canada"
          ],
          [
           "Paseo",
           "Germany"
          ],
          [
           "Velo",
           "France"
          ],
          [
           "Velo",
           "Mexico"
          ],
          [
           "Velo",
           "Canada"
          ],
          [
           "VTT",
           "Canada"
          ],
          [
           "Amarilla",
           "Mexico"
          ],
          [
           "Amarilla",
           "Mexico"
          ],
          [
           "Paseo",
           "United States of America"
          ],
          [
           "Carretera",
           "Mexico"
          ],
          [
           "Montana",
           "Mexico"
          ],
          [
           "Montana",
           "Canada"
          ],
          [
           "Montana",
           "Mexico"
          ],
          [
           "Paseo",
           "Mexico"
          ],
          [
           "Paseo",
           "Mexico"
          ],
          [
           "Paseo",
           "Mexico"
          ],
          [
           "Paseo",
           "France"
          ],
          [
           "Paseo",
           "Mexico"
          ],
          [
           "Paseo",
           "Mexico"
          ],
          [
           "Velo",
           "Mexico"
          ],
          [
           "Velo",
           "United States of America"
          ],
          [
           "Velo",
           "Mexico"
          ],
          [
           "VTT",
           "Canada"
          ],
          [
           "VTT",
           "United States of America"
          ],
          [
           "VTT",
           "Mexico"
          ],
          [
           "Amarilla",
           "United States of America"
          ],
          [
           "Amarilla",
           "France"
          ],
          [
           "Amarilla",
           "Canada"
          ],
          [
           "Carretera",
           "France"
          ],
          [
           "Paseo",
           "Germany"
          ],
          [
           "VTT",
           "France"
          ],
          [
           "VTT",
           "Germany"
          ],
          [
           "Carretera",
           "Canada"
          ],
          [
           "Carretera",
           "France"
          ],
          [
           "Carretera",
           "Germany"
          ],
          [
           "Montana",
           "United States of America"
          ],
          [
           "Montana",
           "United States of America"
          ],
          [
           "Montana",
           "Mexico"
          ],
          [
           "Montana",
           "Canada"
          ],
          [
           "Paseo",
           "United States of America"
          ],
          [
           "Paseo",
           "United States of America"
          ],
          [
           "Paseo",
           "Germany"
          ],
          [
           "Paseo",
           "Canada"
          ],
          [
           "Paseo",
           "France"
          ],
          [
           "Paseo",
           "Canada"
          ],
          [
           "Paseo",
           "Germany"
          ],
          [
           "Velo",
           "Canada"
          ],
          [
           "Velo",
           "France"
          ],
          [
           "Amarilla",
           "France"
          ],
          [
           "Carretera",
           "Mexico"
          ],
          [
           "Carretera",
           "United States of America"
          ],
          [
           "Carretera",
           "United States of America"
          ],
          [
           "Carretera",
           "Germany"
          ],
          [
           "Montana",
           "France"
          ],
          [
           "Montana",
           "United States of America"
          ],
          [
           "Paseo",
           "Canada"
          ],
          [
           "VTT",
           "Germany"
          ],
          [
           "Montana",
           "Canada"
          ],
          [
           "Montana",
           "Germany"
          ],
          [
           "Montana",
           "Canada"
          ],
          [
           "Montana",
           "Canada"
          ],
          [
           "Montana",
           "Mexico"
          ],
          [
           "Paseo",
           "Mexico"
          ],
          [
           "Paseo",
           "France"
          ],
          [
           "Paseo",
           "Canada"
          ],
          [
           "Paseo",
           "United States of America"
          ],
          [
           "Paseo",
           "France"
          ],
          [
           "Velo",
           "United States of America"
          ],
          [
           "VTT",
           "Mexico"
          ],
          [
           "VTT",
           "France"
          ],
          [
           "Amarilla",
           "France"
          ],
          [
           "Amarilla",
           "Mexico"
          ],
          [
           "Paseo",
           "Germany"
          ],
          [
           "Paseo",
           "Mexico"
          ],
          [
           "Paseo",
           "Mexico"
          ],
          [
           "Paseo",
           "United States of America"
          ],
          [
           "Paseo",
           "United States of America"
          ],
          [
           "Paseo",
           "Mexico"
          ],
          [
           "Paseo",
           "France"
          ],
          [
           "VTT",
           "Canada"
          ],
          [
           "VTT",
           "United States of America"
          ],
          [
           "VTT",
           "France"
          ],
          [
           "Montana",
           "Mexico"
          ],
          [
           "Paseo",
           "Canada"
          ]
         ],
         "hovertemplate": "Segment=Government<br>Discounts=%{x}<br>Profit=%{y}<br>Sales=%{marker.size}<br>Product=%{customdata[0]}<br>Country=%{customdata[1]}<extra></extra>",
         "legendgroup": "Government",
         "marker": {
          "color": "#636efa",
          "line": {
           "color": "DarkSlateGrey",
           "width": 1
          },
          "size": {
           "bdata": "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",
           "dtype": "f8"
          },
          "sizemode": "area",
          "sizeref": 2898,
          "symbol": "circle"
         },
         "mode": "markers",
         "name": "Government",
         "orientation": "v",
         "showlegend": true,
         "type": "scatter",
         "x": {
          "bdata": "AAAAAAAAAAAAAAAAAAAAAAAAAAAAAAAAAAAAAAAAAAAAAAAAAAAAAAAAAAAAAAAAAAAAAAAAAAAAAAAAAAAAAAAAAAAAAAAAAAAAAAAAAAAAAAAAAAAAAAAAAAAAAAAAAAAAAAAAAAAAAAAAAAAAAAAAAAAAAAAAAAAAAAAAAAAAAAAAAAAAAAAAAAAAAAAAAAAAAAAAAAAAAAAAAAAAAGZmZmZmQnFAZmZmZmYGUkA9CtejcF1GQBSuR+F6NFdAAAAAAACLsEApXI/C9SBmQAAAAACAGbNAAAAAAIB2vUCamZmZmTFxQDMzMzMzA2BAmpmZmZmnc0AAAAAAgHa9QGdmZmZmJohA16NwPQpXOUCuR+F6FE5iQClcj8L1aDJAAAAAAIDMqUAAAAAAgBmzQM3MzMzMxHJAAAAAAAB/00AzMzMzM5ODQAAAAAAAf9NAhetRuB6dcUAzMzMzM5ODQAAAAACARtRAAAAAAMCq00AzMzMzMzNrQAAAAADAqtNAAAAAAAAYnUAAAAAAAIbKQAAAAACARtRAZmZmZmbmfkBmZmZmZoZ3QAAAAAAAMJhAexSuR+GyeUCPwvUoXI9cQAAAAAAgbdJAAAAAAEDW0ECamZmZmSl/QJqZmZmZGXdAmpmZmZkMokBmZmZmZmaCQArXo3A98ohAAAAAAAD4rUAK16NwPfKIQIXrUbgemZJAAAAAAICV50DNzMzMzOyZQGZmZmZmZopAAAAAAAD4rUCamZmZmYmgQAAAAACAw91AAAAAAAAWs0AAAAAAgMPdQAAAAACAf9lAAAAAAIAS2kAAAAAAAE/YQGZmZmZmWnlAMzMzMzMDfkAzMzMzM7GJQDMzMzMzaY1AMzMzMzNpjUBmZmZmZmiCQGZmZmZmWnlAAAAAAABsmECamZmZmTl2QAAAAAAA8GhAmpmZmZkzi0AAAAAAMKnXQAAAAAAAnMhAAAAAAABclECamZmZmXOJQAAAAACAk8RAAAAAAID81EAAAAAAALSVQAAAAAAAKJxAAAAAAADOpEDNzMzMzFyHQAAAAACAk8RAAAAAAAAgpkAAAAAAAKyYQAAAAAAAJJBAAAAAAAC0lUAAAAAAAMSTQAAAAAAA8qFAAAAAAADOpEAAAAAAAPBoQJqZmZmZM4tAAAAAAEAS10AAAAAAAN7CQAAAAACA/NRAAAAAAAD0lEA9CtejcJ1bQAAAAAAAGdRAAAAAAADx3UCuR+F6FGqCQAAAAAAArt5AAAAAAIDRzUAAAAAAAK7eQOF6FK5HqYNAAAAAAIBJ5UDhehSuR6mDQGZmZmZmDpVAAAAAAGA34UAAAAAAgNHNQK5H4XoUaoJAAAAAAIBJ5UDNzMzMzHigQM3MzMzMeKBAzczMzMzEkkB7FK5H4X6BQDMzMzMzD6RA16NwPQqTf0AzMzMzM2GBQBSuR+F6wHBAPQrXo3A5iEA9CtejcDmIQDMzMzMzYYFAAAAAABAR5UDNzMzMzJylQAAAAAAAyqBAAAAAAABFkEDNzMzMzKSKQM3MzMzMnKVAmpmZmZkVn0CamZmZmbmJQAAAAADgM/FAzczMzMx0mEAUrkfhehRxQGZmZmZmBqBAPQrXo3D9YUBmZmZmZgagQAAAAAAAn+JAMzMzMzOzkUAAAAAAACCQQLgehetRCIZAmpmZmZkpg0AzMzMzMxOhQHsUrkfhundA16NwPQr3i0Bcj8L1KBSVQM3MzMzMLKhAzczMzMy0skAAAAAAAFftQNejcD0KB5FAAAAAAACf4kBI4XoUrm+ZQIXrUbgedZRAAAAAAABrz0CF61G4HnWUQAAAAAAA1sRAAAAAAAAUx0AzMzMzM7ORQEjhehSub5lAMzMzMzMToUAAAAAAAACjQDQzMzMz04VAAAAAAOCf6UA9CtejcLePQAAAAAB4lvJAAAAAAFAa5EAAAAAAsITjQAAAAACIyeRAAAAAAJDa70AAAAAAsITjQGZmZmZm0qdAmpmZmZmlkkD2KFyPwh+AQEjhehSug3RAmpmZmZldm0CamZmZmTGdQJqZmZmZWWxAmpmZmZlZbECamZmZmduyQEjhehSug3RAmpmZmZkxnUBmZmZmZnaZQAAAAACww/NAAAAAAACIrkAAAAAAACB+QAAAAABA19VAAAAAAAAgfkAAAAAAACadQAAAAABQ/PdAAAAAAED170AAAAAAACTzQAAAAAAA3K9AAAAAAEAq2EDD9Shcj3aeQLgehetR/5JAAAAAAADH3UAK16NwPUegQAAAAADAzNxAZmZmZma2uUDNzMzMzEijQAAAAAD0x/NAzczMzMyStEBmZmZmZra5QAAAAAAAG7hAAAAAAADeyUBxPQrXo8CVQAAAAAAAOblAzczMzMyXtkAAAAAAAN7JQJqZmZmZSXJAAAAAAIAr4kAzMzMzM8OfQIXrUbge8aFAAAAAAAAUsEAAAAAAgCviQAAAAAAA+KBAAAAAAAAUsEAAAAAAQFjwQAAAAABAjOhAZmZmZmYep0AAAAAAwJvsQAAAAACAOORAAAAAAAD4oEAAAAAAgI3ZQAAAAACAOORAZmZmZmYep0AAAAAAACbGQIXrUbgedKZAhetRuB7xoUCamZmZmaO3QM3MzMzMtKxA9ihcj8KRk0DNzMzMzLSsQAAAAACQgeRAAAAAAFDi80DNzMzMzPSRQAAAAAD40+VAH4XrUbh0kkAAAAAAAOe2QM3MzMzMXqlAcT0K1yN0lECamZmZmdK6QM3MzMzMgLtAAAAAAMA8/UAfhetRuCqjQM3MzMzMXqlAAAAAAMC5z0AAAAAAwDz9QJqZmZmZ65BAmpmZmZnrkEAzMzMzMzW8QGZmZmZmELNAXI/C9SjwpkBmZmZmZiZxQArXo3A98nFAXI/C9SjwpkBmZmZmZo66QGZmZmZmJnFAAAAAALil+kAAAAAA4K/sQAAAAAAAJMNApHA9CtfDd0CkcD0K13GaQAAAAAAAwIZA7FG4HoWBmkAAAAAAgL/gQAAAAAAgKexAAAAAACD+9kA0MzMzM4OaQHsUrkfhOaZAAAAAACCm7kDsUbgehYGaQKRwPQrXcZpAAAAAAAAkq0AAAAAAgMukQAAAAABsRQJBAAAAAAAIiUAAAAAAeLn5QAAAAAD4kftAAAAAAAB4i0AAAAAAAEmkQAAAAAAACIlAAAAAAAB4i0CamZmZmXGWQDQzMzMzuYdA",
          "dtype": "f8"
         },
         "xaxis": "x",
         "y": {
          "bdata": "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",
          "dtype": "f8"
         },
         "yaxis": "y"
        },
        {
         "customdata": [
          [
           "Carretera",
           "France"
          ],
          [
           "Carretera",
           "Germany"
          ],
          [
           "Carretera",
           "Mexico"
          ],
          [
           "Montana",
           "Germany"
          ],
          [
           "Montana",
           "Mexico"
          ],
          [
           "Montana",
           "United States of America"
          ],
          [
           "Paseo",
           "Mexico"
          ],
          [
           "Paseo",
           "France"
          ],
          [
           "Paseo",
           "Mexico"
          ],
          [
           "Paseo",
           "Canada"
          ],
          [
           "VTT",
           "France"
          ],
          [
           "VTT",
           "Germany"
          ],
          [
           "Amarilla",
           "United States of America"
          ],
          [
           "Paseo",
           "France"
          ],
          [
           "Montana",
           "Mexico"
          ],
          [
           "Paseo",
           "United States of America"
          ],
          [
           "Paseo",
           "Germany"
          ],
          [
           "Amarilla",
           "France"
          ],
          [
           "Paseo",
           "Canada"
          ],
          [
           "Paseo",
           "United States of America"
          ],
          [
           "Paseo",
           "Germany"
          ],
          [
           "VTT",
           "Germany"
          ],
          [
           "Montana",
           "Mexico"
          ],
          [
           "Paseo",
           "Mexico"
          ],
          [
           "Paseo",
           "France"
          ],
          [
           "Montana",
           "Canada"
          ],
          [
           "Paseo",
           "Canada"
          ],
          [
           "Paseo",
           "United States of America"
          ],
          [
           "Paseo",
           "Mexico"
          ],
          [
           "VTT",
           "Mexico"
          ],
          [
           "Amarilla",
           "United States of America"
          ],
          [
           "Carretera",
           "Mexico"
          ],
          [
           "Paseo",
           "France"
          ],
          [
           "Paseo",
           "Germany"
          ],
          [
           "Velo",
           "United States of America"
          ],
          [
           "Velo",
           "Mexico"
          ],
          [
           "Paseo",
           "France"
          ],
          [
           "Carretera",
           "Canada"
          ],
          [
           "Carretera",
           "United States of America"
          ],
          [
           "Velo",
           "Germany"
          ],
          [
           "VTT",
           "Canada"
          ],
          [
           "Paseo",
           "United States of America"
          ],
          [
           "Paseo",
           "Germany"
          ],
          [
           "Paseo",
           "United States of America"
          ],
          [
           "VTT",
           "United States of America"
          ],
          [
           "Velo",
           "Canada"
          ],
          [
           "Paseo",
           "France"
          ],
          [
           "Paseo",
           "United States of America"
          ],
          [
           "Carretera",
           "France"
          ],
          [
           "Montana",
           "France"
          ],
          [
           "Montana",
           "Germany"
          ],
          [
           "Amarilla",
           "Germany"
          ],
          [
           "Paseo",
           "United States of America"
          ],
          [
           "Paseo",
           "France"
          ],
          [
           "Velo",
           "Mexico"
          ],
          [
           "VTT",
           "France"
          ],
          [
           "Amarilla",
           "Germany"
          ],
          [
           "Velo",
           "Mexico"
          ],
          [
           "Amarilla",
           "Canada"
          ],
          [
           "Montana",
           "France"
          ],
          [
           "Paseo",
           "France"
          ],
          [
           "Velo",
           "Germany"
          ],
          [
           "Velo",
           "Germany"
          ],
          [
           "Velo",
           "United States of America"
          ],
          [
           "VTT",
           "Mexico"
          ],
          [
           "VTT",
           "France"
          ],
          [
           "Amarilla",
           "France"
          ],
          [
           "Velo",
           "Canada"
          ],
          [
           "Amarilla",
           "United States of America"
          ],
          [
           "Carretera",
           "Canada"
          ],
          [
           "Montana",
           "Mexico"
          ],
          [
           "Paseo",
           "Mexico"
          ],
          [
           "Velo",
           "Mexico"
          ],
          [
           "Amarilla",
           "Mexico"
          ],
          [
           "Carretera",
           "Canada"
          ],
          [
           "Montana",
           "United States of America"
          ],
          [
           "Paseo",
           "Mexico"
          ],
          [
           "VTT",
           "France"
          ],
          [
           "Amarilla",
           "United States of America"
          ],
          [
           "Carretera",
           "United States of America"
          ],
          [
           "VTT",
           "United States of America"
          ],
          [
           "Paseo",
           "Canada"
          ],
          [
           "Velo",
           "France"
          ],
          [
           "Velo",
           "Germany"
          ],
          [
           "VTT",
           "Canada"
          ],
          [
           "Paseo",
           "Germany"
          ],
          [
           "Paseo",
           "United States of America"
          ],
          [
           "Carretera",
           "Germany"
          ],
          [
           "Carretera",
           "Canada"
          ],
          [
           "Montana",
           "Canada"
          ],
          [
           "Paseo",
           "Canada"
          ],
          [
           "Paseo",
           "Canada"
          ],
          [
           "Amarilla",
           "Canada"
          ],
          [
           "Amarilla",
           "Mexico"
          ],
          [
           "Paseo",
           "Canada"
          ],
          [
           "Paseo",
           "Canada"
          ],
          [
           "Paseo",
           "Germany"
          ],
          [
           "Velo",
           "France"
          ],
          [
           "VTT",
           "Germany"
          ],
          [
           "VTT",
           "Germany"
          ]
         ],
         "hovertemplate": "Segment=Midmarket<br>Discounts=%{x}<br>Profit=%{y}<br>Sales=%{marker.size}<br>Product=%{customdata[0]}<br>Country=%{customdata[1]}<extra></extra>",
         "legendgroup": "Midmarket",
         "marker": {
          "color": "#EF553B",
          "line": {
           "color": "DarkSlateGrey",
           "width": 1
          },
          "size": {
           "bdata": "AAAAAIDn30AAAAAAAATKQAAAAABAF+JAAAAAAID7ykAAAAAAQBfiQAAAAACABMJAAAAAAACJzEAAAAAAgBXAQAAAAAAAG+JAAAAAAACG30AAAAAAgOffQAAAAAAABMpAAAAAAIAEwkAzMzMz86XgQM3MzMy8DeBAmpmZmbn01UCamZmZearFQJqZmZnZnrJAMzMzMwP24EAAAAAAYKLbQAAAAADwottAAAAAAPCi20CamZmZmY/cQJqZmZmZj9xAmpmZmZnL30AzMzMzM6nbQGZmZmZmhqhAMzMzMzPfwkBmZmZmZkrVQGZmZmZmStVAMzMzMzPfwkAAAAAAeGvjQAAAAADgOuJAAAAAAEBy3UAAAAAAwOS+QAAAAAAo6ONANDMzM0Mr6kDNzMzMjJTjQAAAAADA89tAAAAAAEAR1UDNzMzMjJTjQDMzMzPzQ95AMzMzMxMA2EBmZmZmpsDPQGZmZmamwM9AmpmZmTkx0UDNzMzMPJ/cQGZmZmbu9uNAAAAAAABqukCamZmZOdrgQGZmZmbmKcNAZmZmZuYpw0AAAAAAeH7oQDMzMzMjW9BAAAAAAIAgqkAzMzMzI1vQQAAAAABA3MlAZmZmZgaE4UDNzMzMFLzVQAAAAAAAUdtAAAAAAKCR3EAAAAAAwPTBQAAAAAAA5bpAAAAAAIDUxEAAAAAAwObAQAAAAACgkdxAAAAAAABR20BmZmZmZga0QGZmZmYq2+RAAAAAAIBW1EDNzMzM/B7cQJqZmZmZ3dlAAAAAACAUwUDNzMzM/B7cQJqZmZnZVOFAMzMzMzN0wUAAAAAAAJizQM3MzMzs+OhAMzMzMzNs4EAzMzMza1vgQDMzMzNrW+BAAAAAANDx00AAAAAA7HjpQAAAAACA0sBAAAAAANDx00BmZmZmZgSsQDMzMzOTQtZAzczMzGwP00AAAAAAgPncQAAAAACA+dxAAAAAAMAd30DNzMzMLPXVQM3MzMws9dVAAAAAAMCO10AAAAAAoBjUQAAAAADQ3N9AAAAAAKBCzUAAAAAA8JfhQAAAAAAAgbhAAAAAAKBCzUA=",
           "dtype": "f8"
          },
          "sizemode": "area",
          "sizeref": 2898,
          "symbol": "circle"
         },
         "mode": "markers",
         "name": "Midmarket",
         "orientation": "v",
         "showlegend": true,
         "type": "scatter",
         "x": {
          "bdata": "AAAAAAAAAAAAAAAAAAAAAAAAAAAAAAAAAAAAAAAAAAAAAAAAAAAAAAAAAAAAAAAAAAAAAAAAAAAAAAAAAAAAAAAAAAAAAAAAAAAAAAAAAAAAAAAAAAAAAAAAAAAAAAAAAAAAAAAAAABmZmZmZoZ1QJqZmZmZwXRAMzMzMzNjbEAzMzMzMwNcQDMzMzMzE0hAMzMzMzMnhkAAAAAAAAyCQAAAAAAAWotAAAAAAABai0BmZmZmZgqTQGZmZmZmCpNAZmZmZmYylUDNzMzMzHCSQJqZmZmZWWBAmpmZmZkpeUAzMzMzM2OMQDMzMzMzY4xAmpmZmZkpeUAAAAAAgFqgQAAAAAAAtJ5AAAAAAADMmEAAAAAAAAR6QAAAAACAw6BAzczMzMy5qkAzMzMzM/+jQAAAAAAAjJxAAAAAAACElUAzMzMzM/+jQM3MzMzM6J5AzczMzMyCmEDNzMzMzDaQQM3MzMzMNpBAZmZmZma0lECamZmZGTyhQJqZmZkZC6hAAAAAAABggkBmZmZmZnKnQJqZmZmZqYpAmpmZmZmpikAAAAAAQGGzQM3MzMzM4ZlAAAAAAACsdEDNzMzMzOGZQAAAAAAAdpRAmpmZmZm3q0CamZmZWTKhQAAAAAAASKhAAAAAAABlqUAAAAAAAOyPQAAAAAAA6IdAAAAAAACEkkAAAAAAAAyOQAAAAAAAZalAAAAAAABIqEDMzMzMzMyDQMzMzMwsn7RAAAAAAAAcpECamZmZGc6rQDMzMzMzk6lAAAAAAADjkECamZmZGc6rQDMzMzMz6LJAZmZmZmYKk0AAAAAAAGCFQJmZmZkZPrtAZmZmZmbqsUBmZmZmpo2zQGZmZmamjbNAAAAAAIDXp0AAAAAAIHO+QAAAAAAAHJRAAAAAAIDXp0BmZmZmZj6CQGZmZmZm/axAmpmZmZnSqEAAAAAAAN6yQAAAAAAA3rJAAAAAAABDtECamZmZmZisQJqZmZmZmKxAAAAAAACurkAAAAAAAF+sQAAAAADAfbZAAAAAAICnpEAAAAAAgNa4QAAAAAAATJFAAAAAAICnpEA=",
          "dtype": "f8"
         },
         "xaxis": "x",
         "y": {
          "bdata": "AAAAAABFxUAAAAAAAFixQAAAAAAAH8hAAAAAAAD9sUAAAAAAAB/IQAAAAAAABqhAAAAAAAAGs0AAAAAAAHKlQAAAAAAAJMhAAAAAAAAExUAAAAAAAEXFQAAAAAAAWLFAAAAAAAAGqEDNzMzMzL/FQDMzMzPz+MRAaGZmZuauvEBoZmZm5k2sQGhmZmZmU5hAzczMzAyxxUAAAAAAwKvBQAAAAADgSMFAAAAAAOBIwUA0MzMzM3TBQDQzMzMzdMFAMzMzMzNuw0BmZmZmZufAQJiZmZmZ+Y1AzczMzMwQp0CZmZmZmQW6QJmZmZmZBbpAzczMzMwQp0AAAAAA4CrHQAAAAACAv8VAAAAAAICQwUAAAAAAgG2iQAAAAACgv8dAzszMzAxwzkAzMzMzM8bGQAAAAACAQcBAAAAAAACBuEAzMzMzM8bGQGZmZmbmmcFAzMzMzEzqu0DMzMzMTHeyQMzMzMxMd7JAaGZmZuZ4s0CamZmZeTXAQJeZmZm5nMZAAAAAAAAYnUBpZmZm5o/CQJmZmZmZG6VAmZmZmZkbpUAAAAAA4DLKQMzMzMyMfrFAAAAAAADyi0DMzMzMjH6xQAAAAAAAqatAl5mZmRm8wkAyMzMzUz+3QAAAAAAAVLxAAAAAAICgvUAAAAAAAJ+iQAAAAAAA5JtAAAAAAACapUAAAAAAAIehQAAAAACAoL1AAAAAAABUvECamZmZmRmUQJqZmZkp78RAAAAAAABqtEA0MzMz8zm8QGhmZmZm9rlAAAAAAIAkoUA0MzMz8zm8QGhmZmZmzsBAzczMzMzsoEAAAAAAAACTQDIzMzMzN8hAmJmZmZnZv0CYmZmZWZW+QJiZmZlZlb5AAAAAAEClskAAAAAAMNDHQAAAAAAAdJ9AAAAAAEClskCYmZmZmTGJQMzMzMxMBLRANDMzM7MjsUAAAAAAAA66QAAAAAAADrpAAAAAAAD7u0A0MzMzs76zQDQzMzOzvrNAAAAAAAAvtUAAAAAAgFaxQAAAAABAfbtAAAAAAIA+qUAAAAAAgFu+QAAAAAAAJJVAAAAAAIA+qUA=",
          "dtype": "f8"
         },
         "yaxis": "y"
        },
        {
         "customdata": [
          [
           "Montana",
           "Canada"
          ],
          [
           "Montana",
           "Germany"
          ],
          [
           "Paseo",
           "Canada"
          ],
          [
           "Paseo",
           "Germany"
          ],
          [
           "Paseo",
           "United States of America"
          ],
          [
           "Velo",
           "Germany"
          ],
          [
           "Velo",
           "Germany"
          ],
          [
           "VTT",
           "Germany"
          ],
          [
           "Amarilla",
           "United States of America"
          ],
          [
           "Amarilla",
           "United States of America"
          ],
          [
           "Carretera",
           "United States of America"
          ],
          [
           "Carretera",
           "Canada"
          ],
          [
           "Carretera",
           "France"
          ],
          [
           "Carretera",
           "Germany"
          ],
          [
           "Paseo",
           "Germany"
          ],
          [
           "Amarilla",
           "United States of America"
          ],
          [
           "Carretera",
           "Canada"
          ],
          [
           "Montana",
           "United States of America"
          ],
          [
           "Montana",
           "Mexico"
          ],
          [
           "Paseo",
           "United States of America"
          ],
          [
           "Paseo",
           "Canada"
          ],
          [
           "Paseo",
           "France"
          ],
          [
           "Paseo",
           "France"
          ],
          [
           "Paseo",
           "Mexico"
          ],
          [
           "Velo",
           "France"
          ],
          [
           "Velo",
           "Mexico"
          ],
          [
           "Carretera",
           "United States of America"
          ],
          [
           "Carretera",
           "Canada"
          ],
          [
           "Montana",
           "France"
          ],
          [
           "Paseo",
           "France"
          ],
          [
           "Paseo",
           "United States of America"
          ],
          [
           "VTT",
           "Mexico"
          ],
          [
           "VTT",
           "Germany"
          ],
          [
           "Velo",
           "United States of America"
          ],
          [
           "VTT",
           "France"
          ],
          [
           "Paseo",
           "Canada"
          ],
          [
           "Velo",
           "Canada"
          ],
          [
           "Amarilla",
           "Mexico"
          ],
          [
           "Carretera",
           "France"
          ],
          [
           "Carretera",
           "Germany"
          ],
          [
           "Montana",
           "Germany"
          ],
          [
           "Carretera",
           "Mexico"
          ],
          [
           "Carretera",
           "Canada"
          ],
          [
           "Montana",
           "United States of America"
          ],
          [
           "Paseo",
           "Canada"
          ],
          [
           "Carretera",
           "Mexico"
          ],
          [
           "Carretera",
           "Canada"
          ],
          [
           "Montana",
           "Mexico"
          ],
          [
           "Montana",
           "France"
          ],
          [
           "VTT",
           "France"
          ],
          [
           "VTT",
           "Germany"
          ],
          [
           "Paseo",
           "Mexico"
          ],
          [
           "VTT",
           "Canada"
          ],
          [
           "Velo",
           "Canada"
          ],
          [
           "Amarilla",
           "Mexico"
          ],
          [
           "Carretera",
           "Mexico"
          ],
          [
           "Montana",
           "Canada"
          ],
          [
           "Paseo",
           "Mexico"
          ],
          [
           "Paseo",
           "Germany"
          ],
          [
           "VTT",
           "United States of America"
          ],
          [
           "VTT",
           "Germany"
          ],
          [
           "VTT",
           "France"
          ],
          [
           "Carretera",
           "Germany"
          ],
          [
           "Velo",
           "France"
          ],
          [
           "Amarilla",
           "France"
          ],
          [
           "Carretera",
           "United States of America"
          ],
          [
           "Paseo",
           "United States of America"
          ],
          [
           "Amarilla",
           "Canada"
          ],
          [
           "Amarilla",
           "Germany"
          ],
          [
           "Carretera",
           "France"
          ],
          [
           "Paseo",
           "France"
          ],
          [
           "Velo",
           "Germany"
          ],
          [
           "VTT",
           "Mexico"
          ],
          [
           "Amarilla",
           "Germany"
          ],
          [
           "Carretera",
           "Canada"
          ],
          [
           "Paseo",
           "Canada"
          ],
          [
           "Paseo",
           "France"
          ],
          [
           "VTT",
           "France"
          ],
          [
           "VTT",
           "Canada"
          ],
          [
           "Montana",
           "Mexico"
          ],
          [
           "Amarilla",
           "Canada"
          ],
          [
           "Montana",
           "Mexico"
          ],
          [
           "Paseo",
           "Mexico"
          ],
          [
           "Paseo",
           "Germany"
          ],
          [
           "Velo",
           "Mexico"
          ],
          [
           "Velo",
           "Mexico"
          ],
          [
           "Velo",
           "Germany"
          ],
          [
           "Amarilla",
           "Mexico"
          ],
          [
           "Amarilla",
           "Germany"
          ],
          [
           "Paseo",
           "France"
          ],
          [
           "Amarilla",
           "France"
          ],
          [
           "Amarilla",
           "United States of America"
          ],
          [
           "Paseo",
           "United States of America"
          ],
          [
           "Paseo",
           "Canada"
          ],
          [
           "Amarilla",
           "France"
          ],
          [
           "Amarilla",
           "United States of America"
          ],
          [
           "Paseo",
           "United States of America"
          ],
          [
           "Velo",
           "Mexico"
          ],
          [
           "Velo",
           "United States of America"
          ],
          [
           "VTT",
           "United States of America"
          ]
         ],
         "hovertemplate": "Segment=Channel Partners<br>Discounts=%{x}<br>Profit=%{y}<br>Sales=%{marker.size}<br>Product=%{customdata[0]}<br>Country=%{customdata[1]}<extra></extra>",
         "legendgroup": "Channel Partners",
         "marker": {
          "color": "#00cc96",
          "line": {
           "color": "DarkSlateGrey",
           "width": 1
          },
          "size": {
           "bdata": "AAAAAACC3UAAAAAAABvSQAAAAAAAgt1AAAAAAAA0sUAAAAAAAGDFQAAAAAAAU9lAAAAAAAAb0kAAAAAAAKHgQAAAAAAA49ZAAAAAAAAX2UD2KFyPQo7VQGZmZmamw9BAhetRuN783kDXo3A9CsbBQNejcD0KxsFArkfhelQT10CamZmZmb7NQClcj8L1OspAZmZmZmayv0ApXI/C9TrKQJqZmZmZvs1AZmZmZuZ/1EBmZmZmZjvIQFK4HoXr5chAZmZmZmY7yEBSuB6F6+XIQOxRuB7FIdZAw/UoXI+kxEBcj8L16JvVQFyPwvXom9VACtejcH0iz0DD9Shcj8fVQHE9CtfjLdxAMzMzMzN70EBcj8L1KHzDQJqZmZlZENtAmpmZmVkQ20CamZmZGQHJQAAAAABAw9RAMzMzMzPZyEAzMzMzsxLaQI/C9Shcw7hASOF6FC5T2UCPwvUo3P7dQEjhehQuU9lAuB6F61Gxv0CPwvUoXIjUQJqZmZmZgNlASOF6FC6G2UDXo3A9avLSQJqZmZnZI9hA7FG4HsUc3kBxPQrXE67hQFK4HoXryblAAAAAAACmzUDhehSuR0+vQK5H4XpUwNhA4XoUrkdPr0AAAAAAwO3SQHsUrkfh29RAzczMzMzEwkC4HoXr0dLXQGZmZmZm2dBAXI/C9ej51EDXo3A9ChuqQM3MzMzMSLBAzczMzMxIsEDNzMzMrJDiQM3MzMzMJdtAuB6F61H9yEC4HoXrUf3IQClcj8L1sLNAMzMzM7P2xEApXI/C9bCzQNejcD3KM9RAKVyPwrX+5EAqXI/CFUzZQOF6FK7HFdJA9ihcj8K/1UDXo3A9CnHbQNejcD0KedxA9ihcj8KhuEAK16NwPUm3QI/C9Sjcp8RA9ihcj8KhuEBmZmZmZriwQI/C9Sjcp8RAZmZmZma4sEAzMzMzswvSQHsUrkfhE8xAexSuR+ETzEAzMzMzs07UQIXrUbgeXt1A9ihcj8Jk1kAAAAAAgPHYQIXrUbgeXt1AZmZmZmY1wkAAAAAAAOyzQGZmZmZmNcJAzczMzEz90UA=",
           "dtype": "f8"
          },
          "sizemode": "area",
          "sizeref": 2898,
          "symbol": "circle"
         },
         "mode": "markers",
         "name": "Channel Partners",
         "orientation": "v",
         "showlegend": true,
         "type": "scatter",
         "x": {
          "bdata": "AAAAAAAAAAAAAAAAAAAAAAAAAAAAAAAAAAAAAAAAAAAAAAAAAAAAAAAAAAAAAAAAAAAAAAAAAAAAAAAAAAAAAAAAAAAAAAAAAAAAAAAAAAAfhetRuN5rQM3MzMzMrGVAuB6F61EIdEB7FK5H4fpWQHsUrkfh+lZA9ihcj8LVbUDNzMzMzGxzQOF6FK5HIXFAMzMzMzOzZEDhehSuRyFxQM3MzMzMbHNAZmZmZmbGekBmZmZmZqZvQMP1KFyPQnBAZmZmZmamb0DD9Shcj0JwQI/C9Shc54VArkfhehRudEB7FK5H4WKFQHsUrkfhYoVAuB6F61HQfkCuR+F6FI6FQOxRuB6F44tAmpmZmZn5hUB7FK5H4fp5QGZmZmZmypZAZmZmZmbKlkBmZmZmZg6FQAAAAAAAfJFAzczMzMzshEDNzMzMzPSVQArXo3A9SnlAhetRuB7dmUAK16NwPaKeQIXrUbge3ZlAPQrXo3AVg0AK16NwPbqYQGZmZmZmtp5AhetRuB69nkCPwvUoXNGWQGZmZmZmEp1ApHA9CtchokD2KFyPwkqlQHE9Ctej8IFAAAAAAACglED2KFyPwsV4QI/C9ShclaNA9ihcj8LFeEAAAAAAAPSdQClcj8L1gKBAMzMzMzOzjUA9CtejcNmiQJqZmZmZqZpAH4XrUbiYoEBI4XoUrqd0QDMzMzMz83xAMzMzMzPzfECamZmZmYCwQJqZmZmZIahAPQrXo3C1mEA9CtejcLWYQLgehetReINAZmZmZma6lEC4HoXrUXiDQEjhehSu+aNAuB6F61HCtEC4HoXrUQOpQPYoXI/C4aFAUrgeheu5p0BI4XoUru+tQEjhehSuD69AUrgehetxjUCuR+F6FNaLQIXrUbgesZhAUrgehetxjUDNzMzMzPyDQIXrUbgesZhAzczMzMz8g0BmZmZmZpKlQBSuR+F6SKJAFK5H4XpIokBmZmZmZnKqQOxRuB6FH7NAUrgehesprUAAAAAAAD6wQOxRuB6FH7NAzczMzMy0mUAAAAAAACCMQM3MzMzMtJlAmpmZmZllqUA=",
          "dtype": "f8"
         },
         "xaxis": "x",
         "y": {
          "bdata": "AAAAAIAh1kAAAAAAgCjLQAAAAACAIdZAAAAAAADOqUAAAAAAAAjAQAAAAABA/tJAAAAAAIAoy0AAAAAAgPHYQAAAAABAKtFAAAAAAEDR0kD2KFyPwhzQQM3MzMzMD8lAhetRuJ4p10CuR+F6FJK6QK5H4XoUkrpArkfhepQ/0UCamZmZGSjGQClcj8L1icNAZmZmZmact0ApXI/C9YnDQJqZmZkZKMZAzczMzEyKzkBmZmZm5gzCQFK4HoXri8JAZmZmZuYMwkBSuB6F64vCQOxRuB6FbdBAhutRuB6lvkBcj8L1KArQQFyPwvUoCtBACtejcD0cx0DD9ShcjyrQQHE9Ctej6tRAZmZmZuZgyEC4HoXrUdK8QJqZmZkZ8dNAmpmZmRnx00CamZmZmWzCQAAAAAAAmc5AMzMzMzNPwkAzMzMzMzbTQI/C9ShcLbJASOF6FO6W0kCPwvUonATWQEjhehTultJAuB6F61Est0AfhetRuAbOQJqZmZmZpdJASOF6FK6p0kCuR+F6FLXLQJqZmZmZptFA7FG4HoUE1kDiehSux9rZQFK4HoXrx7JAAAAAAICXxUDhehSuR7WmQK5H4XqU89FA4XoUrke1pkAAAAAAAHXLQPYoXI/CQc5AmpmZmZk5u0C4HoXrUUfRQM3MzMzMcMhAuB6F61FtzkDXo3A9Cu+iQJqZmZmZhadAmpmZmZmFp0CamZmZ+dDaQM3MzMxMm9NAuB6F61H4wUC4HoXrUfjBQFK4HoXrUaxAZmZmZmYmvkBSuB6F61GsQK5H4XoUDs1AUrgehesx3kAqXI/C9TDSQMP1KFyPAspA7FG4HgUkz0DXo3A9SqXTQNejcD1KYtRA9ihcj8KNsUAK16NwPZiwQB6F61G4cL1A9ihcj8KNsUDNzMzMzNSnQB6F61G4cL1AzczMzMzUp0BmZmZmZrjJQHsUrkdh6sNAexSuR2Hqw0BmZmZm5s7MQIXrUbie1NRA7FG4HoXEz0AAAAAAQLHRQIXrUbie1NRAzMzMzMy0uUAAAAAAACCsQMzMzMzMtLlAmpmZmZllyUA=",
          "dtype": "f8"
         },
         "yaxis": "y"
        },
        {
         "customdata": [
          [
           "Montana",
           "Canada"
          ],
          [
           "Montana",
           "Canada"
          ],
          [
           "Velo",
           "France"
          ],
          [
           "Velo",
           "United States of America"
          ],
          [
           "Velo",
           "Canada"
          ],
          [
           "Amarilla",
           "Germany"
          ],
          [
           "Carretera",
           "United States of America"
          ],
          [
           "Montana",
           "United States of America"
          ],
          [
           "Paseo",
           "United States of America"
          ],
          [
           "Paseo",
           "France"
          ],
          [
           "Paseo",
           "Mexico"
          ],
          [
           "Velo",
           "Canada"
          ],
          [
           "Velo",
           "United States of America"
          ],
          [
           "VTT",
           "United States of America"
          ],
          [
           "VTT",
           "France"
          ],
          [
           "VTT",
           "France"
          ],
          [
           "Carretera",
           "Canada"
          ],
          [
           "Montana",
           "Mexico"
          ],
          [
           "Paseo",
           "Mexico"
          ],
          [
           "Paseo",
           "Germany"
          ],
          [
           "Paseo",
           "Mexico"
          ],
          [
           "Paseo",
           "Canada"
          ],
          [
           "Velo",
           "Germany"
          ],
          [
           "Velo",
           "Mexico"
          ],
          [
           "VTT",
           "Mexico"
          ],
          [
           "VTT",
           "Canada"
          ],
          [
           "Amarilla",
           "Germany"
          ],
          [
           "Carretera",
           "France"
          ],
          [
           "Montana",
           "France"
          ],
          [
           "Montana",
           "Germany"
          ],
          [
           "Paseo",
           "Canada"
          ],
          [
           "Paseo",
           "Germany"
          ],
          [
           "Paseo",
           "Canada"
          ],
          [
           "Paseo",
           "France"
          ],
          [
           "Paseo",
           "Germany"
          ],
          [
           "Velo",
           "Canada"
          ],
          [
           "VTT",
           "Germany"
          ],
          [
           "Montana",
           "Mexico"
          ],
          [
           "Paseo",
           "Germany"
          ],
          [
           "Paseo",
           "France"
          ],
          [
           "Paseo",
           "Mexico"
          ],
          [
           "Amarilla",
           "Mexico"
          ],
          [
           "Montana",
           "United States of America"
          ],
          [
           "Paseo",
           "United States of America"
          ],
          [
           "Paseo",
           "France"
          ],
          [
           "Paseo",
           "United States of America"
          ],
          [
           "Paseo",
           "France"
          ],
          [
           "Velo",
           "Germany"
          ],
          [
           "Velo",
           "United States of America"
          ],
          [
           "Velo",
           "France"
          ],
          [
           "Carretera",
           "Germany"
          ],
          [
           "Velo",
           "Canada"
          ],
          [
           "Velo",
           "United States of America"
          ],
          [
           "Amarilla",
           "France"
          ],
          [
           "Montana",
           "Germany"
          ],
          [
           "Paseo",
           "Germany"
          ],
          [
           "Velo",
           "Germany"
          ],
          [
           "Amarilla",
           "Canada"
          ],
          [
           "Amarilla",
           "Germany"
          ],
          [
           "Carretera",
           "Mexico"
          ],
          [
           "Paseo",
           "Mexico"
          ],
          [
           "Montana",
           "France"
          ],
          [
           "Montana",
           "United States of America"
          ],
          [
           "Paseo",
           "United States of America"
          ],
          [
           "Velo",
           "Canada"
          ],
          [
           "Velo",
           "Mexico"
          ],
          [
           "VTT",
           "Mexico"
          ],
          [
           "Carretera",
           "United States of America"
          ],
          [
           "Carretera",
           "France"
          ],
          [
           "Montana",
           "United States of America"
          ],
          [
           "Velo",
           "United States of America"
          ],
          [
           "Velo",
           "Canada"
          ],
          [
           "VTT",
           "Mexico"
          ],
          [
           "VTT",
           "Canada"
          ],
          [
           "Amarilla",
           "United States of America"
          ],
          [
           "Carretera",
           "France"
          ],
          [
           "Paseo",
           "France"
          ],
          [
           "VTT",
           "Mexico"
          ],
          [
           "Amarilla",
           "Germany"
          ],
          [
           "Amarilla",
           "France"
          ],
          [
           "Amarilla",
           "Mexico"
          ],
          [
           "Carretera",
           "Canada"
          ],
          [
           "Carretera",
           "Mexico"
          ],
          [
           "Paseo",
           "Mexico"
          ],
          [
           "VTT",
           "United States of America"
          ],
          [
           "Paseo",
           "Canada"
          ],
          [
           "VTT",
           "Canada"
          ],
          [
           "Amarilla",
           "Canada"
          ],
          [
           "Carretera",
           "France"
          ],
          [
           "Carretera",
           "Mexico"
          ],
          [
           "Velo",
           "Mexico"
          ],
          [
           "Amarilla",
           "United States of America"
          ],
          [
           "Carretera",
           "France"
          ],
          [
           "Carretera",
           "Germany"
          ],
          [
           "Carretera",
           "Germany"
          ],
          [
           "Paseo",
           "Germany"
          ],
          [
           "Velo",
           "France"
          ],
          [
           "Velo",
           "United States of America"
          ],
          [
           "VTT",
           "Canada"
          ],
          [
           "VTT",
           "Germany"
          ]
         ],
         "hovertemplate": "Segment=Enterprise<br>Discounts=%{x}<br>Profit=%{y}<br>Sales=%{marker.size}<br>Product=%{customdata[0]}<br>Country=%{customdata[1]}<extra></extra>",
         "legendgroup": "Enterprise",
         "marker": {
          "color": "#ab63fa",
          "line": {
           "color": "DarkSlateGrey",
           "width": 1
          },
          "size": {
           "bdata": "AAAAAA5WFEEAAAAAoA7lQAAAAADghgtBAAAAAMSFFUEAAAAAoA7lQAAAAACbGCBBAAAAALDw40AAAAAA5Af0QAAAAADk9vVAAAAAAPTG90AAAAAA4okLQQAAAADU4vtAAAAAAOQH9EAAAAAA5Pb1QAAAAAD0xvdAAAAAAGBYCkEAAAAAxDT2QAAAAACw0ghBAAAAAHDM80AAAAAA6DH4QAAAAACqCRBBAAAAAHpnFEEAAAAA6DH4QAAAAACqCRBBAAAAAHDM80AAAAAAemcUQQAAAABoBBFBAAAAgHFnH0EAAAAAhgwDQQAAAAAkQAlBAAAAAMxBCkEAAAAA1DwHQQAAAAA6vA1BAAAAAIYMA0EAAAAAJEAJQQAAAAA6vA1BAAAAANQ8B0EAAAAAgKsAQQAAAACASvdAAAAAAIDiFUEAAAAAgKsAQQAAAAAAd/9AAAAAAMlJGkEAAAAAkK8VQQAAAABLSRFBAAAAADz2+EAAAAAAAGn0QAAAAAB0ZfdAAAAAADz2+EAAAAAAAGn0QAAAAADocflAAAAAAEBP+0AAAAAAAsITQQAAAADagQxBAAAAAAS9EUEAAAAACe0YQQAAAACunQ1BAAAAAPpXB0EAAAAACDb8QAAAAABgngVBAAAAAOBG/0AAAAAADskJQQAAAAA7axNBAAAAADtrE0EAAAAACH7vQAAAAABkTA1BAAAAAOxa+EAAAAAAi6gXQQAAAAAoWgRBAAAAADDGCEEAAAAA8OoFQQAAAADwTwpBAAAAAFC74kAAAAAAgl0RQQAAAAAwzu9AAAAAACWTEEEAAAAAJZMQQQAAAAAQGO5AAAAAAKl9FUEAAAAA6nUDQQAAAACcuPlAAAAAAIA4EEEAAAAAQPMMQQAAAABA8wxBAAAAAKgGEEEAAAAAugMFQQAAAAC6AwVBAAAAAAIGBkEAAAAASNn6QAAAAABmghJBAAAAAASrBEEAAAAACKkSQQAAAAAYdP5AAAAAAKfxEUEAAAAAFCX8QAAAAAAUJfxAAAAAALwy8UAAAAAA7J4PQQAAAAAaKBNBAAAAAECj7EA=",
           "dtype": "f8"
          },
          "sizemode": "area",
          "sizeref": 2898,
          "symbol": "circle"
         },
         "mode": "markers",
         "name": "Enterprise",
         "orientation": "v",
         "showlegend": true,
         "type": "scatter",
         "x": {
          "bdata": "AAAAAAAAAAAAAAAAAAAAAAAAAAAAAAAAAAAAAAAAAAAAAAAAAAAAAAAAAAAAAAAAAAAAAADIeUAAAAAAAOaJQAAAAAAAZoxAAAAAAAC+jkAAAAAAgM2hQAAAAAAAB5JAAAAAAADmiUAAAAAAAGaMQAAAAAAAvo5AAAAAAAAIoUAAAAAAAAGdQAAAAAAANrBAAAAAAADcmUAAAAAAAJqfQAAAAACA8rRAAAAAAICmukAAAAAAAJqfQAAAAACA8rRAAAAAAADcmUAAAAAAgKa6QAAAAAAAOrZAAAAAAJAUz0AAAAAAQNqyQAAAAACA/bhAAAAAAID8uUAAAAAAgP+2QAAAAADAbb1AAAAAAEDaskAAAAAAgP24QAAAAADAbb1AAAAAAID/tkAAAAAAADq2QAAAAAAADq9AAAAAAAAuzUAAAAAAADq2QAAAAAAA+rRAAAAAADAj1kAAAAAAAEPSQAAAAAAgHc1AAAAAAEAFtUAAAAAAADCxQAAAAADAs7NAAAAAAEAFtUAAAAAAADCxQAAAAACA/LlAAAAAAADku0AAAAAAoC3UQAAAAAAgHc1AAAAAAMBc1UAAAAAAsATeQAAAAABQ1dFAAAAAAOAczEAAAAAAwPzAQAAAAAAAFM5AAAAAAADCxUAAAAAA0GbUQAAAAACQut5AAAAAAJC63kAAAAAAwOq4QAAAAABgLtdAAAAAACBFw0AAAAAAmAflQAAAAABAF9JAAAAAAIAF1kAAAAAAgHvTQAAAAACAY9dAAAAAAICmsEAAAAAAIN/eQAAAAACARbxAAAAAAHhj4EAAAAAAeGPgQAAAAACAwb1AAAAAANg/5UAAAAAA8D3TQAAAAACgbslAAAAAAACy4UAAAAAAAJXfQAAAAAAAld9AAAAAAKB74UAAAAAA8B7ZQAAAAADwHtlAAAAAALBT2kAAAAAAoHvRQAAAAADwGuhAAAAAAKDq2kAAAAAAQE3oQAAAAAAgf9VAAAAAAChV6UAAAAAA8N3TQAAAAADw3dNAAAAAAKBHyEAAAAAAEFLmQAAAAABwC+tAAAAAAAA3xEA=",
          "dtype": "f8"
         },
         "xaxis": "x",
         "y": {
          "bdata": "AAAAAMAHykAAAAAAAPSaQAAAAAAAnsFAAAAAAICMy0AAAAAAAPSaQAAAAABgmtRAAAAAAABWk0AAAAAAgGyjQAAAAACATKVAAAAAAIAOp0AAAAAAQLS6QAAAAACACqtAAAAAAIBso0AAAAAAgEylQAAAAACADqdAAAAAAACMuUAAAAAAAAGdQAAAAAAANrBAAAAAAADcmUAAAAAAAJqfQAAAAACA8rRAAAAAAICmukAAAAAAAJqfQAAAAACA8rRAAAAAAADcmUAAAAAAgKa6QAAAAAAAOrZAAAAAAGC4tEAAAAAAACOZQAAAAAAAqaBAAAAAAABToUAAAAAAAKqeQAAAAACAnqNAAAAAAAAjmUAAAAAAAKmgQAAAAACAnqNAAAAAAACqnkAAAAAAAAAAAAAAAAAAAAAAAAAAAAAAAAAAAAAAAAAAAAAAAAAAAAAAAAAAAMC1scAAAAAAADitwAAAAACASqfAAAAAAADRkMAAAAAAAICLwAAAAAAAho/AAAAAAADRkMAAAAAAAICLwAAAAAAAU6HAAAAAAACYosAAAAAAgOe6wAAAAADAaLPAAAAAAIBPwsAAAAAA4LrJwAAAAABAkr7AAAAAAMAYuMAAAAAAAB+twAAAAAAAFL7AAAAAAADCtcAAAAAAIKvGwAAAAABQEtHAAAAAAFAS0cAAAAAAgK+rwAAAAADAwcnAAAAAAEBptcAAAAAAUDzZwAAAAACAtcXAAAAAAABtysAAAAAAAGHHwAAAAAAAEczAAAAAAAD7o8AAAAAA4IXSwAAAAACA9rDAAAAAALDb1MAAAAAAsNvUwAAAAACA77LAAAAAAHAL28AAAAAAYH3IwAAAAAAgL8DAAAAAAACY18AAAAAAAA7VwAAAAAAADtXAAAAAAIBP18AAAAAAMGTRwAAAAAAwZNHAAAAAAPA50sAAAAAAwPnIwAAAAADQN+HAAAAAAOA508AAAAAAwFvhwAAAAABAh8/AAAAAAMiT4sAAAAAAYCPNwAAAAABgI83AAAAAACDOwcAAAAAAUF7gwAAAAAAw1ePAAAAAAACmvcA=",
          "dtype": "f8"
         },
         "yaxis": "y"
        },
        {
         "customdata": [
          [
           "Montana",
           "Mexico"
          ],
          [
           "Paseo",
           "Mexico"
          ],
          [
           "VTT",
           "Canada"
          ],
          [
           "VTT",
           "France"
          ],
          [
           "Carretera",
           "Mexico"
          ],
          [
           "Montana",
           "United States of America"
          ],
          [
           "Montana",
           "United States of America"
          ],
          [
           "Paseo",
           "United States of America"
          ],
          [
           "VTT",
           "Germany"
          ],
          [
           "VTT",
           "Mexico"
          ],
          [
           "Carretera",
           "Germany"
          ],
          [
           "Paseo",
           "France"
          ],
          [
           "Paseo",
           "Germany"
          ],
          [
           "Paseo",
           "Canada"
          ],
          [
           "VTT",
           "Germany"
          ],
          [
           "Amarilla",
           "Germany"
          ],
          [
           "Amarilla",
           "Mexico"
          ],
          [
           "Amarilla",
           "Canada"
          ],
          [
           "Carretera",
           "Germany"
          ],
          [
           "Paseo",
           "France"
          ],
          [
           "Paseo",
           "Germany"
          ],
          [
           "VTT",
           "United States of America"
          ],
          [
           "VTT",
           "Canada"
          ],
          [
           "Carretera",
           "Germany"
          ],
          [
           "Montana",
           "Germany"
          ],
          [
           "Montana",
           "Germany"
          ],
          [
           "Paseo",
           "Germany"
          ],
          [
           "Paseo",
           "United States of America"
          ],
          [
           "Carretera",
           "United States of America"
          ],
          [
           "Montana",
           "Mexico"
          ],
          [
           "Paseo",
           "Mexico"
          ],
          [
           "Paseo",
           "United States of America"
          ],
          [
           "Velo",
           "Germany"
          ],
          [
           "Amarilla",
           "Germany"
          ],
          [
           "Velo",
           "France"
          ],
          [
           "VTT",
           "France"
          ],
          [
           "VTT",
           "Canada"
          ],
          [
           "Carretera",
           "France"
          ],
          [
           "Carretera",
           "France"
          ],
          [
           "Montana",
           "France"
          ],
          [
           "Paseo",
           "Canada"
          ],
          [
           "Paseo",
           "France"
          ],
          [
           "Paseo",
           "Germany"
          ],
          [
           "Paseo",
           "Canada"
          ],
          [
           "Velo",
           "France"
          ],
          [
           "Velo",
           "United States of America"
          ],
          [
           "VTT",
           "France"
          ],
          [
           "VTT",
           "Mexico"
          ],
          [
           "Amarilla",
           "United States of America"
          ],
          [
           "Montana",
           "France"
          ],
          [
           "Montana",
           "Canada"
          ],
          [
           "Paseo",
           "Mexico"
          ],
          [
           "Velo",
           "France"
          ],
          [
           "Velo",
           "Mexico"
          ],
          [
           "VTT",
           "Canada"
          ],
          [
           "VTT",
           "United States of America"
          ],
          [
           "Amarilla",
           "Mexico"
          ],
          [
           "Amarilla",
           "Mexico"
          ],
          [
           "Carretera",
           "Canada"
          ],
          [
           "Montana",
           "Canada"
          ],
          [
           "Montana",
           "France"
          ],
          [
           "Montana",
           "Germany"
          ],
          [
           "Paseo",
           "Mexico"
          ],
          [
           "Paseo",
           "Canada"
          ],
          [
           "Paseo",
           "France"
          ],
          [
           "Velo",
           "Canada"
          ],
          [
           "VTT",
           "Germany"
          ],
          [
           "VTT",
           "United States of America"
          ],
          [
           "Paseo",
           "Mexico"
          ],
          [
           "Velo",
           "United States of America"
          ],
          [
           "Velo",
           "France"
          ],
          [
           "VTT",
           "Mexico"
          ],
          [
           "VTT",
           "United States of America"
          ],
          [
           "Amarilla",
           "United States of America"
          ],
          [
           "Amarilla",
           "France"
          ],
          [
           "Carretera",
           "Germany"
          ],
          [
           "Paseo",
           "Canada"
          ],
          [
           "Paseo",
           "Canada"
          ],
          [
           "Montana",
           "France"
          ],
          [
           "Montana",
           "France"
          ],
          [
           "Paseo",
           "United States of America"
          ],
          [
           "Paseo",
           "Germany"
          ],
          [
           "Paseo",
           "Mexico"
          ],
          [
           "Paseo",
           "Germany"
          ],
          [
           "Velo",
           "Mexico"
          ],
          [
           "Carretera",
           "Mexico"
          ],
          [
           "Carretera",
           "Canada"
          ],
          [
           "Carretera",
           "United States of America"
          ],
          [
           "Velo",
           "United States of America"
          ],
          [
           "Velo",
           "Canada"
          ],
          [
           "Velo",
           "Germany"
          ],
          [
           "VTT",
           "United States of America"
          ],
          [
           "VTT",
           "Canada"
          ],
          [
           "VTT",
           "Canada"
          ],
          [
           "VTT",
           "United States of America"
          ],
          [
           "Amarilla",
           "Canada"
          ],
          [
           "Montana",
           "Mexico"
          ],
          [
           "Velo",
           "United States of America"
          ],
          [
           "Amarilla",
           "France"
          ],
          [
           "Amarilla",
           "Mexico"
          ]
         ],
         "hovertemplate": "Segment=Small Business<br>Discounts=%{x}<br>Profit=%{y}<br>Sales=%{marker.size}<br>Product=%{customdata[0]}<br>Country=%{customdata[1]}<extra></extra>",
         "legendgroup": "Small Business",
         "marker": {
          "color": "#FFA15A",
          "line": {
           "color": "DarkSlateGrey",
           "width": 1
          },
          "size": {
           "bdata": "AAAAAKCKEUEAAAAAgNsMQQAAAADYUSJBAAAAAGixI0EAAAAA8OgBQQAAAAAK2yRBAAAAACSkJkEAAAAAglQqQQAAAACo3xFBAAAAAPDoAUEAAAAAgLjuQAAAAAAQeRBBAAAAAAACH0EAAAAA0DAhQQAAAACAuO5AAAAAACCX8kAAAAAAuMETQQAAAADQMCFBAAAAAJh5CEEAAAAAr54lQQAAAACYeQhBAAAAAKhBKUEAAAAAbKQgQQAAAABAwyFBAAAAAMBWIEEAAAAAQMMhQQAAAABA3RhBAAAAAIClKUEAAAAADD0RQQAAAABwIhNBAAAAACz0G0EAAAAADD0RQQAAAABovhVBAAAAAGi+FUEAAAAACAQVQQAAAAAIBBVBAAAAAND2JEEAAAAAAIT+QAAAAADmkSJBAAAAAOaRIkEAAAAAqPscQQAAAAAAhP5AAAAAAJQfE0EAAAAAkOgXQQAAAAA0QBxBAAAAABBdF0EAAAAApFQQQQAAAACaYydBAAAAABBdF0EAAAAAIFAaQQAAAADwnBVBAAAAAGC4JEEAAAAAgAL6QAAAAADgZAVBAAAAAHD5IUEAAAAAADkLQQAAAABguCRBAAAAAOBkBUEAAAAAmDoSQQAAAAAFri9BAAAAACB29UAAAAAA4EL2QAAAAACqXiVBAAAAAJg6EkEAAAAAsA8WQQAAAADTmi9BAAAAACYnJkEAAAAA7BsfQQAAAACQegNBAAAAAOjmIkEAAAAAMB0MQQAAAAAAevxAAAAAAOjmIkEAAAAAXKkoQQAAAAAwHQxBAAAAAJLnJkEAAAAAGHQMQQAAAADIQhZBAAAAAKCRHEEAAAAAQBwTQQAAAABwKCxBAAAAAODlFUEAAAAAYFIhQQAAAAAYtglBAAAAAMK/JEEAAAAAEDoJQQAAAADAjhdBAAAAACDPD0EAAAAAcF4jQQAAAACg8fBAAAAAAKD3I0EAAAAAtAEkQQAAAACg8fBAAAAAAMCOF0EAAAAAIM8PQQAAAACA9wtBAAAAAPD+AEEAAAAA5AckQQAAAACqQiNBAAAAAPD+AEE=",
           "dtype": "f8"
          },
          "sizemode": "area",
          "sizeref": 2898,
          "symbol": "circle"
         },
         "mode": "markers",
         "name": "Small Business",
         "orientation": "v",
         "showlegend": true,
         "type": "scatter",
         "x": {
          "bdata": "AAAAAAAAAAAAAAAAAAAAAAAAAAAAAAAAAAAAAAAAAAAAAAAAACiXQAAAAAAA97pAAAAAAABGvUAAAAAAgAXBQAAAAAAAHKdAAAAAAAAol0AAAAAAABCUQAAAAAAAhLVAAAAAAABAxEAAAAAAAHTGQAAAAAAAEJRAAAAAAABImEAAAAAAAM65QAAAAAAAdMZAAAAAAAA5uEAAAAAAoGXVQAAAAAAAObhAAAAAAAD/2EAAAAAAgHjQQAAAAAAAr9dAAAAAAADJ1UAAAAAAAK/XQAAAAACAk9BAAAAAAAAZ4UAAAAAAgAjNQAAAAAAAHdBAAAAAAECK10AAAAAAgAjNQAAAAACAT9JAAAAAAIBP0kAAAAAAgHbVQAAAAACAdtVAAAAAAABp5UAAAAAAAGDCQAAAAAAgXeZAAAAAACBd5kAAAAAAwHPhQAAAAAAAYMJAAAAAAMAH10AAAAAAAMvcQAAAAADgAuFAAAAAAAAj3EAAAAAAwKrTQAAAAADgKuxAAAAAAAAj3EAAAAAAAE7iQAAAAAAAEt5AAAAAAADU7EAAAAAAABjCQAAAAAAAxM1AAAAAAAAC6UAAAAAAAPDSQAAAAAAA1OxAAAAAAADEzUAAAAAAgNjcQAAAAAC4EPlAAAAAAAD7wEAAAAAAAJ3BQAAAAABw6PBAAAAAAIDY3EAAAAAAgHThQAAAAACIAflAAAAAABCH8UAAAAAAIJ3oQAAAAACAUNFAAAAAAEDN8EAAAAAAgP3YQAAAAAAAUMlAAAAAAEDN8EAAAAAA4Ov1QAAAAACA/dhAAAAAALCl9kAAAAAAQCLcQAAAAADAAuZAAAAAAIAq70AAAAAAANnkQAAAAADAt/5AAAAAAIDj50AAAAAAgOXyQAAAAABAvN5AAAAAALDN+EAAAAAAQG3gQAAAAAAAru5AAAAAAIC25EAAAAAAgDn5QAAAAAAAEcZAAAAAAAAB+kAAAAAAIA76QAAAAAAAEcZAAAAAAACu7kAAAAAAgLbkQAAAAAAANuJAAAAAAID+10AAAAAAYEf8QAAAAADwMPtAAAAAAID+10A=",
          "dtype": "f8"
         },
         "xaxis": "x",
         "y": {
          "bdata": "AAAAAIBj50AAAAAAAD3jQAAAAAAgbfhAAAAAAOBB+kAAAAAAgKzWQAAAAAAwZ/pAAAAAAOCp/EAAAAAAuKoAQQAAAADAoOZAAAAAAICs1kAAAAAAAGTCQAAAAAAAueNAAAAAAACQ8kAAAAAAAJX0QAAAAAAAZMJAAAAAAABCxkAAAAAAgKfnQAAAAAAAlfRAAAAAAECW20AAAAAAaF74QAAAAABAlttAAAAAAMB3/EAAAAAAIMLyQAAAAADgv/JAAAAAACA/8UAAAAAA4L/yQAAAAADgPupAAAAAAEAS+0AAAAAAoO/gQAAAAACAzOJAAAAAAKB260AAAAAAoO/gQAAAAADAXOVAAAAAAMBc5UAAAAAAABTjQAAAAAAAFONAAAAAAAAI80AAAAAAAGDJQAAAAAAg4u5AAAAAACDi7kAAAAAAwBnoQAAAAAAAYMlAAAAAAMDN30AAAAAAgOHjQAAAAADgfedAAAAAAIBt40AAAAAAwCjbQAAAAADwcvNAAAAAAIBt40AAAAAAgNTjQAAAAADASeBAAAAAAAA770AAAAAAAJrDQAAAAACAH9BAAAAAAIAX60AAAAAAAITUQAAAAAAAO+9AAAAAAIAf0EAAAAAAgJLYQAAAAAAYWvVAAAAAAADuvEAAAAAAAAK+QAAAAABgzuxAAAAAAICS2EAAAAAAAL3dQAAAAAAoTfVAAAAAAKDc7UAAAAAAoPfkQAAAAAAAFsdAAAAAAABn5kAAAAAAAKnQQAAAAAAA4MBAAAAAAABn5kAAAAAAgDrtQAAAAAAAqdBAAAAAAGBV50AAAAAAgPzMQAAAAACArdZAAAAAAIA92EAAAAAAADfQQAAAAABA5OdAAAAAAICU0kAAAAAAAGXdQAAAAACAVsFAAAAAAMD720AAAAAAAAi5QAAAAAAAYMdAAAAAAACQv0AAAAAAADjTQAAAAAAA0KBAAAAAAADQ00AAAAAAANrTQAAAAAAA0KBAAAAAAABgx0AAAAAAAJC/QAAAAAAAwLtAAAAAAABUpUAAAAAAACPJQAAAAACAK8hAAAAAAABUpUA=",
          "dtype": "f8"
         },
         "yaxis": "y"
        }
       ],
       "layout": {
        "legend": {
         "itemsizing": "constant",
         "title": {
          "text": "Market Segment"
         },
         "tracegroupgap": 0
        },
        "template": {
         "data": {
          "bar": [
           {
            "error_x": {
             "color": "#2a3f5f"
            },
            "error_y": {
             "color": "#2a3f5f"
            },
            "marker": {
             "line": {
              "color": "white",
              "width": 0.5
             },
             "pattern": {
              "fillmode": "overlay",
              "size": 10,
              "solidity": 0.2
             }
            },
            "type": "bar"
           }
          ],
          "barpolar": [
           {
            "marker": {
             "line": {
              "color": "white",
              "width": 0.5
             },
             "pattern": {
              "fillmode": "overlay",
              "size": 10,
              "solidity": 0.2
             }
            },
            "type": "barpolar"
           }
          ],
          "carpet": [
           {
            "aaxis": {
             "endlinecolor": "#2a3f5f",
             "gridcolor": "#C8D4E3",
             "linecolor": "#C8D4E3",
             "minorgridcolor": "#C8D4E3",
             "startlinecolor": "#2a3f5f"
            },
            "baxis": {
             "endlinecolor": "#2a3f5f",
             "gridcolor": "#C8D4E3",
             "linecolor": "#C8D4E3",
             "minorgridcolor": "#C8D4E3",
             "startlinecolor": "#2a3f5f"
            },
            "type": "carpet"
           }
          ],
          "choropleth": [
           {
            "colorbar": {
             "outlinewidth": 0,
             "ticks": ""
            },
            "type": "choropleth"
           }
          ],
          "contour": [
           {
            "colorbar": {
             "outlinewidth": 0,
             "ticks": ""
            },
            "colorscale": [
             [
              0,
              "#0d0887"
             ],
             [
              0.1111111111111111,
              "#46039f"
             ],
             [
              0.2222222222222222,
              "#7201a8"
             ],
             [
              0.3333333333333333,
              "#9c179e"
             ],
             [
              0.4444444444444444,
              "#bd3786"
             ],
             [
              0.5555555555555556,
              "#d8576b"
             ],
             [
              0.6666666666666666,
              "#ed7953"
             ],
             [
              0.7777777777777778,
              "#fb9f3a"
             ],
             [
              0.8888888888888888,
              "#fdca26"
             ],
             [
              1,
              "#f0f921"
             ]
            ],
            "type": "contour"
           }
          ],
          "contourcarpet": [
           {
            "colorbar": {
             "outlinewidth": 0,
             "ticks": ""
            },
            "type": "contourcarpet"
           }
          ],
          "heatmap": [
           {
            "colorbar": {
             "outlinewidth": 0,
             "ticks": ""
            },
            "colorscale": [
             [
              0,
              "#0d0887"
             ],
             [
              0.1111111111111111,
              "#46039f"
             ],
             [
              0.2222222222222222,
              "#7201a8"
             ],
             [
              0.3333333333333333,
              "#9c179e"
             ],
             [
              0.4444444444444444,
              "#bd3786"
             ],
             [
              0.5555555555555556,
              "#d8576b"
             ],
             [
              0.6666666666666666,
              "#ed7953"
             ],
             [
              0.7777777777777778,
              "#fb9f3a"
             ],
             [
              0.8888888888888888,
              "#fdca26"
             ],
             [
              1,
              "#f0f921"
             ]
            ],
            "type": "heatmap"
           }
          ],
          "histogram": [
           {
            "marker": {
             "pattern": {
              "fillmode": "overlay",
              "size": 10,
              "solidity": 0.2
             }
            },
            "type": "histogram"
           }
          ],
          "histogram2d": [
           {
            "colorbar": {
             "outlinewidth": 0,
             "ticks": ""
            },
            "colorscale": [
             [
              0,
              "#0d0887"
             ],
             [
              0.1111111111111111,
              "#46039f"
             ],
             [
              0.2222222222222222,
              "#7201a8"
             ],
             [
              0.3333333333333333,
              "#9c179e"
             ],
             [
              0.4444444444444444,
              "#bd3786"
             ],
             [
              0.5555555555555556,
              "#d8576b"
             ],
             [
              0.6666666666666666,
              "#ed7953"
             ],
             [
              0.7777777777777778,
              "#fb9f3a"
             ],
             [
              0.8888888888888888,
              "#fdca26"
             ],
             [
              1,
              "#f0f921"
             ]
            ],
            "type": "histogram2d"
           }
          ],
          "histogram2dcontour": [
           {
            "colorbar": {
             "outlinewidth": 0,
             "ticks": ""
            },
            "colorscale": [
             [
              0,
              "#0d0887"
             ],
             [
              0.1111111111111111,
              "#46039f"
             ],
             [
              0.2222222222222222,
              "#7201a8"
             ],
             [
              0.3333333333333333,
              "#9c179e"
             ],
             [
              0.4444444444444444,
              "#bd3786"
             ],
             [
              0.5555555555555556,
              "#d8576b"
             ],
             [
              0.6666666666666666,
              "#ed7953"
             ],
             [
              0.7777777777777778,
              "#fb9f3a"
             ],
             [
              0.8888888888888888,
              "#fdca26"
             ],
             [
              1,
              "#f0f921"
             ]
            ],
            "type": "histogram2dcontour"
           }
          ],
          "mesh3d": [
           {
            "colorbar": {
             "outlinewidth": 0,
             "ticks": ""
            },
            "type": "mesh3d"
           }
          ],
          "parcoords": [
           {
            "line": {
             "colorbar": {
              "outlinewidth": 0,
              "ticks": ""
             }
            },
            "type": "parcoords"
           }
          ],
          "pie": [
           {
            "automargin": true,
            "type": "pie"
           }
          ],
          "scatter": [
           {
            "fillpattern": {
             "fillmode": "overlay",
             "size": 10,
             "solidity": 0.2
            },
            "type": "scatter"
           }
          ],
          "scatter3d": [
           {
            "line": {
             "colorbar": {
              "outlinewidth": 0,
              "ticks": ""
             }
            },
            "marker": {
             "colorbar": {
              "outlinewidth": 0,
              "ticks": ""
             }
            },
            "type": "scatter3d"
           }
          ],
          "scattercarpet": [
           {
            "marker": {
             "colorbar": {
              "outlinewidth": 0,
              "ticks": ""
             }
            },
            "type": "scattercarpet"
           }
          ],
          "scattergeo": [
           {
            "marker": {
             "colorbar": {
              "outlinewidth": 0,
              "ticks": ""
             }
            },
            "type": "scattergeo"
           }
          ],
          "scattergl": [
           {
            "marker": {
             "colorbar": {
              "outlinewidth": 0,
              "ticks": ""
             }
            },
            "type": "scattergl"
           }
          ],
          "scattermap": [
           {
            "marker": {
             "colorbar": {
              "outlinewidth": 0,
              "ticks": ""
             }
            },
            "type": "scattermap"
           }
          ],
          "scattermapbox": [
           {
            "marker": {
             "colorbar": {
              "outlinewidth": 0,
              "ticks": ""
             }
            },
            "type": "scattermapbox"
           }
          ],
          "scatterpolar": [
           {
            "marker": {
             "colorbar": {
              "outlinewidth": 0,
              "ticks": ""
             }
            },
            "type": "scatterpolar"
           }
          ],
          "scatterpolargl": [
           {
            "marker": {
             "colorbar": {
              "outlinewidth": 0,
              "ticks": ""
             }
            },
            "type": "scatterpolargl"
           }
          ],
          "scatterternary": [
           {
            "marker": {
             "colorbar": {
              "outlinewidth": 0,
              "ticks": ""
             }
            },
            "type": "scatterternary"
           }
          ],
          "surface": [
           {
            "colorbar": {
             "outlinewidth": 0,
             "ticks": ""
            },
            "colorscale": [
             [
              0,
              "#0d0887"
             ],
             [
              0.1111111111111111,
              "#46039f"
             ],
             [
              0.2222222222222222,
              "#7201a8"
             ],
             [
              0.3333333333333333,
              "#9c179e"
             ],
             [
              0.4444444444444444,
              "#bd3786"
             ],
             [
              0.5555555555555556,
              "#d8576b"
             ],
             [
              0.6666666666666666,
              "#ed7953"
             ],
             [
              0.7777777777777778,
              "#fb9f3a"
             ],
             [
              0.8888888888888888,
              "#fdca26"
             ],
             [
              1,
              "#f0f921"
             ]
            ],
            "type": "surface"
           }
          ],
          "table": [
           {
            "cells": {
             "fill": {
              "color": "#EBF0F8"
             },
             "line": {
              "color": "white"
             }
            },
            "header": {
             "fill": {
              "color": "#C8D4E3"
             },
             "line": {
              "color": "white"
             }
            },
            "type": "table"
           }
          ]
         },
         "layout": {
          "annotationdefaults": {
           "arrowcolor": "#2a3f5f",
           "arrowhead": 0,
           "arrowwidth": 1
          },
          "autotypenumbers": "strict",
          "coloraxis": {
           "colorbar": {
            "outlinewidth": 0,
            "ticks": ""
           }
          },
          "colorscale": {
           "diverging": [
            [
             0,
             "#8e0152"
            ],
            [
             0.1,
             "#c51b7d"
            ],
            [
             0.2,
             "#de77ae"
            ],
            [
             0.3,
             "#f1b6da"
            ],
            [
             0.4,
             "#fde0ef"
            ],
            [
             0.5,
             "#f7f7f7"
            ],
            [
             0.6,
             "#e6f5d0"
            ],
            [
             0.7,
             "#b8e186"
            ],
            [
             0.8,
             "#7fbc41"
            ],
            [
             0.9,
             "#4d9221"
            ],
            [
             1,
             "#276419"
            ]
           ],
           "sequential": [
            [
             0,
             "#0d0887"
            ],
            [
             0.1111111111111111,
             "#46039f"
            ],
            [
             0.2222222222222222,
             "#7201a8"
            ],
            [
             0.3333333333333333,
             "#9c179e"
            ],
            [
             0.4444444444444444,
             "#bd3786"
            ],
            [
             0.5555555555555556,
             "#d8576b"
            ],
            [
             0.6666666666666666,
             "#ed7953"
            ],
            [
             0.7777777777777778,
             "#fb9f3a"
            ],
            [
             0.8888888888888888,
             "#fdca26"
            ],
            [
             1,
             "#f0f921"
            ]
           ],
           "sequentialminus": [
            [
             0,
             "#0d0887"
            ],
            [
             0.1111111111111111,
             "#46039f"
            ],
            [
             0.2222222222222222,
             "#7201a8"
            ],
            [
             0.3333333333333333,
             "#9c179e"
            ],
            [
             0.4444444444444444,
             "#bd3786"
            ],
            [
             0.5555555555555556,
             "#d8576b"
            ],
            [
             0.6666666666666666,
             "#ed7953"
            ],
            [
             0.7777777777777778,
             "#fb9f3a"
            ],
            [
             0.8888888888888888,
             "#fdca26"
            ],
            [
             1,
             "#f0f921"
            ]
           ]
          },
          "colorway": [
           "#636efa",
           "#EF553B",
           "#00cc96",
           "#ab63fa",
           "#FFA15A",
           "#19d3f3",
           "#FF6692",
           "#B6E880",
           "#FF97FF",
           "#FECB52"
          ],
          "font": {
           "color": "#2a3f5f"
          },
          "geo": {
           "bgcolor": "white",
           "lakecolor": "white",
           "landcolor": "white",
           "showlakes": true,
           "showland": true,
           "subunitcolor": "#C8D4E3"
          },
          "hoverlabel": {
           "align": "left"
          },
          "hovermode": "closest",
          "mapbox": {
           "style": "light"
          },
          "paper_bgcolor": "white",
          "plot_bgcolor": "white",
          "polar": {
           "angularaxis": {
            "gridcolor": "#EBF0F8",
            "linecolor": "#EBF0F8",
            "ticks": ""
           },
           "bgcolor": "white",
           "radialaxis": {
            "gridcolor": "#EBF0F8",
            "linecolor": "#EBF0F8",
            "ticks": ""
           }
          },
          "scene": {
           "xaxis": {
            "backgroundcolor": "white",
            "gridcolor": "#DFE8F3",
            "gridwidth": 2,
            "linecolor": "#EBF0F8",
            "showbackground": true,
            "ticks": "",
            "zerolinecolor": "#EBF0F8"
           },
           "yaxis": {
            "backgroundcolor": "white",
            "gridcolor": "#DFE8F3",
            "gridwidth": 2,
            "linecolor": "#EBF0F8",
            "showbackground": true,
            "ticks": "",
            "zerolinecolor": "#EBF0F8"
           },
           "zaxis": {
            "backgroundcolor": "white",
            "gridcolor": "#DFE8F3",
            "gridwidth": 2,
            "linecolor": "#EBF0F8",
            "showbackground": true,
            "ticks": "",
            "zerolinecolor": "#EBF0F8"
           }
          },
          "shapedefaults": {
           "line": {
            "color": "#2a3f5f"
           }
          },
          "ternary": {
           "aaxis": {
            "gridcolor": "#DFE8F3",
            "linecolor": "#A2B1C6",
            "ticks": ""
           },
           "baxis": {
            "gridcolor": "#DFE8F3",
            "linecolor": "#A2B1C6",
            "ticks": ""
           },
           "bgcolor": "white",
           "caxis": {
            "gridcolor": "#DFE8F3",
            "linecolor": "#A2B1C6",
            "ticks": ""
           }
          },
          "title": {
           "x": 0.05
          },
          "xaxis": {
           "automargin": true,
           "gridcolor": "#EBF0F8",
           "linecolor": "#EBF0F8",
           "ticks": "",
           "title": {
            "standoff": 15
           },
           "zerolinecolor": "#EBF0F8",
           "zerolinewidth": 2
          },
          "yaxis": {
           "automargin": true,
           "gridcolor": "#EBF0F8",
           "linecolor": "#EBF0F8",
           "ticks": "",
           "title": {
            "standoff": 15
           },
           "zerolinecolor": "#EBF0F8",
           "zerolinewidth": 2
          }
         }
        },
        "title": {
         "text": "Profit vs. Discount (Interactive)"
        },
        "xaxis": {
         "anchor": "y",
         "domain": [
          0,
          1
         ],
         "title": {
          "text": "Discount Amount ($)"
         }
        },
        "yaxis": {
         "anchor": "x",
         "domain": [
          0,
          1
         ],
         "title": {
          "text": "Profit ($)"
         }
        }
       }
      }
     },
     "metadata": {},
     "output_type": "display_data"
    }
   ],
   "source": [
    "# --- Cell 9 ---\n",
    "# Interactive scatter plot\n",
    "fig2 = px.scatter(\n",
    "    df,\n",
    "    x=\"Discounts\",           # ✅ opravený název sloupce\n",
    "    y=\"Profit\",\n",
    "    color=\"Segment\",\n",
    "    size=\"Sales\",\n",
    "    hover_data=[\"Product\", \"Country\"],\n",
    "    title=\"Profit vs. Discount (Interactive)\",\n",
    ")\n",
    "\n",
    "# Vylepšení vzhledu\n",
    "fig2.update_traces(marker=dict(line=dict(width=1, color='DarkSlateGrey')))\n",
    "fig2.update_layout(\n",
    "    template=\"plotly_white\",\n",
    "    xaxis_title=\"Discount Amount ($)\",\n",
    "    yaxis_title=\"Profit ($)\",\n",
    "    legend_title=\"Market Segment\"\n",
    ")\n",
    "\n",
    "# Export do HTML\n",
    "html_path2 = VIS_PATH / \"profit_vs_discount.html\"\n",
    "fig2.write_html(html_path2)\n",
    "print(f\"✅ Interactive chart saved to: {html_path2}\")\n",
    "\n",
    "fig2.show()\n"
   ]
  },
  {
   "cell_type": "code",
   "execution_count": 9,
   "id": "bb29d4c6",
   "metadata": {},
   "outputs": [
    {
     "name": "stdout",
     "output_type": "stream",
     "text": [
      "📊 Key Insights:\n",
      "- Profit is heavily influenced by discount rate — higher discounts lower profit.\n",
      "- The 'Consumer' segment generally yields higher sales but lower margins.\n",
      "- Certain countries (like the USA and Germany) dominate in total profit.\n",
      "- Product categories vary strongly by segment, suggesting targeted pricing strategy could help.\n"
     ]
    }
   ],
   "source": [
    "# --- Cell 10 ---\n",
    "# Quick text-based summary for insights\n",
    "print(\"📊 Key Insights:\")\n",
    "print(\"- Profit is heavily influenced by discount rate — higher discounts lower profit.\")\n",
    "print(\"- The 'Consumer' segment generally yields higher sales but lower margins.\")\n",
    "print(\"- Certain countries (like the USA and Germany) dominate in total profit.\")\n",
    "print(\"- Product categories vary strongly by segment, suggesting targeted pricing strategy could help.\")\n"
   ]
  },
  {
   "cell_type": "code",
   "execution_count": 11,
   "id": "06b62ca0",
   "metadata": {},
   "outputs": [
    {
     "name": "stdout",
     "output_type": "stream",
     "text": [
      "✅ Cleaned dataset saved to: data/processed/financial_sample_cleaned.csv\n"
     ]
    }
   ],
   "source": [
    "# --- Cell 11 ---\n",
    "# Save cleaned version (optional)\n",
    "CLEAN_PATH = Path(\"data/processed/financial_sample_cleaned.csv\")\n",
    "df.to_csv(CLEAN_PATH, index=False)\n",
    "print(f\"✅ Cleaned dataset saved to: {CLEAN_PATH}\")\n"
   ]
  }
 ],
 "metadata": {
  "kernelspec": {
   "display_name": "venv",
   "language": "python",
   "name": "python3"
  },
  "language_info": {
   "codemirror_mode": {
    "name": "ipython",
    "version": 3
   },
   "file_extension": ".py",
   "mimetype": "text/x-python",
   "name": "python",
   "nbconvert_exporter": "python",
   "pygments_lexer": "ipython3",
   "version": "3.12.3"
  }
 },
 "nbformat": 4,
 "nbformat_minor": 5
}
